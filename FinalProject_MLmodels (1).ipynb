{
 "cells": [
  {
   "cell_type": "markdown",
   "metadata": {},
   "source": [
    "# DSC478 Project: Movie Recommender System\n",
    "### Machine Learning Models and Results\n",
    "\n",
    "FinalProject_MLmodels\n",
    "\n",
    "Movie dataset sourced from https://www.kaggle.com/rounakbanik/the-movies-dataset#movies_metadata.csv \n",
    "\n",
    "By Harsha Puvvada, Paripon Thantong, Yili Lin\n",
    "\n",
    "---------------------------------------------------\n",
    "\n",
    "# Notebook Overview:\n",
    "\n",
    "### Content based algorithms\n",
    "\n",
    "- IMDB weighted Average Rating: display top 25 movies at beginning for user to choose 10 and rate from 1 - 5\n",
    "- TF-IDF + Cosine Similarity based on title, genres, cast, keywords and overview\n",
    "\n",
    "### Collaborative Filtering Algorithms\n",
    "\n",
    "- Singular Value Decomposition(Item based filtering): Predicts user ratings for unseen movies based on their ratings and shows their top picks\n",
    "- K nearest Neighbors: finds similar movies based on user ratings and shows their top picks\n",
    "\n",
    "### Bagging:\n",
    "- predict top 5 movies based on all the ML models\n",
    "\n",
    "-------------------------------------------------------\n",
    "### How the program would work:\n",
    "\n",
    "Initially, the user is displayed a list of the top 25 movies based on the IMDB weighted score and top 25 based on popularity. The user will pick 5 movies from the 2 tables and rate them on a scale of 1 - 10. The program will then use the users ratings in determining the top 5 picks out of all the ML models using bagging and display it. "
   ]
  },
  {
   "cell_type": "code",
   "execution_count": 1,
   "metadata": {},
   "outputs": [],
   "source": [
    "import pandas as pd\n",
    "import numpy as np\n",
    "import matplotlib.pyplot as plt\n",
    "import seaborn as sns\n",
    "plt.style.use('seaborn-whitegrid')\n",
    "%matplotlib inline\n",
    "from sklearn.feature_extraction.text import TfidfVectorizer\n",
    "from sklearn.metrics.pairwise import linear_kernel\n",
    "from scipy.sparse import csr_matrix\n",
    "from sklearn.neighbors import NearestNeighbors\n",
    "from sklearn.metrics.pairwise import cosine_similarity"
   ]
  },
  {
   "cell_type": "code",
   "execution_count": 145,
   "metadata": {},
   "outputs": [],
   "source": [
    "#Load Data\n",
    "movieDF = pd.read_csv('./finalData/cleanedMoviesMetadata.csv')\n",
    "ratingsDF = pd.read_csv('./finalData/cleanedRatings.csv')\n",
    "smallRatingsDF = pd.read_csv('./finalData/cleanedSmallRatings.csv')"
   ]
  },
  {
   "cell_type": "code",
   "execution_count": 3,
   "metadata": {},
   "outputs": [
    {
     "data": {
      "text/plain": [
       "(23712, 5)"
      ]
     },
     "execution_count": 3,
     "metadata": {},
     "output_type": "execute_result"
    }
   ],
   "source": [
    "smallRatingsDF.shape"
   ]
  },
  {
   "cell_type": "code",
   "execution_count": 4,
   "metadata": {},
   "outputs": [
    {
     "data": {
      "text/plain": [
       "(16470, 14)"
      ]
     },
     "execution_count": 4,
     "metadata": {},
     "output_type": "execute_result"
    }
   ],
   "source": [
    "movieDF.shape"
   ]
  },
  {
   "cell_type": "markdown",
   "metadata": {},
   "source": [
    "--------------------------------------------------------------------------------------------------------------------"
   ]
  },
  {
   "cell_type": "markdown",
   "metadata": {},
   "source": [
    "# Results Array to store ML model outputs"
   ]
  },
  {
   "cell_type": "code",
   "execution_count": 5,
   "metadata": {},
   "outputs": [],
   "source": [
    "recommendationList = []"
   ]
  },
  {
   "cell_type": "markdown",
   "metadata": {},
   "source": [
    "# IMDB weighted Average Algorithm"
   ]
  },
  {
   "cell_type": "markdown",
   "metadata": {},
   "source": [
    "calculate IMDB weighted score to tell user the top 50 movies based on the votes.\n",
    "The IMDB weighted score accounts for popularity and tries to get the true opinion of it.\n",
    "\n",
    "Formula:\n",
    "IMDB = [V/(V + M)]R + [M/(V + M)]C\n",
    "\n",
    "- V = number of Votes\n",
    "- M = min votes required - We consider M = 0.9 quantile for this case\n",
    "- R = Mean vote across dataset \n",
    "- C = mean vote"
   ]
  },
  {
   "cell_type": "code",
   "execution_count": 6,
   "metadata": {},
   "outputs": [
    {
     "data": {
      "text/plain": [
       "589.0"
      ]
     },
     "execution_count": 6,
     "metadata": {},
     "output_type": "execute_result"
    }
   ],
   "source": [
    "#Set minimum number of Votes required first (M)\n",
    "vote_count = movieDF.vote_count\n",
    "M = vote_count.astype(float).quantile(.9)\n",
    "tempDF = movieDF[movieDF['vote_count']>M]\n",
    "M"
   ]
  },
  {
   "cell_type": "code",
   "execution_count": 7,
   "metadata": {},
   "outputs": [],
   "source": [
    "#Set V,C, R\n",
    "R = tempDF.vote_average.mean()\n",
    "V = tempDF.vote_count\n",
    "C = tempDF.vote_average"
   ]
  },
  {
   "cell_type": "code",
   "execution_count": 8,
   "metadata": {},
   "outputs": [
    {
     "data": {
      "text/html": [
       "<div>\n",
       "<style scoped>\n",
       "    .dataframe tbody tr th:only-of-type {\n",
       "        vertical-align: middle;\n",
       "    }\n",
       "\n",
       "    .dataframe tbody tr th {\n",
       "        vertical-align: top;\n",
       "    }\n",
       "\n",
       "    .dataframe thead th {\n",
       "        text-align: right;\n",
       "    }\n",
       "</style>\n",
       "<table border=\"1\" class=\"dataframe\">\n",
       "  <thead>\n",
       "    <tr style=\"text-align: right;\">\n",
       "      <th></th>\n",
       "      <th>movieId</th>\n",
       "      <th>imdb_id</th>\n",
       "      <th>title</th>\n",
       "      <th>runtime</th>\n",
       "      <th>genres</th>\n",
       "      <th>cast</th>\n",
       "      <th>keywords</th>\n",
       "      <th>overview</th>\n",
       "      <th>budget</th>\n",
       "      <th>revenue</th>\n",
       "      <th>popularity</th>\n",
       "      <th>vote_average</th>\n",
       "      <th>vote_count</th>\n",
       "      <th>year</th>\n",
       "      <th>IMDB</th>\n",
       "    </tr>\n",
       "  </thead>\n",
       "  <tbody>\n",
       "    <tr>\n",
       "      <th>0</th>\n",
       "      <td>862</td>\n",
       "      <td>tt0114709</td>\n",
       "      <td>Toy Story</td>\n",
       "      <td>81.0</td>\n",
       "      <td>['Animation', 'Comedy', 'Family']</td>\n",
       "      <td>['Tom Hanks', 'Tim Allen', 'Don Rickles', 'Jim...</td>\n",
       "      <td>['jealousy', 'toy', 'boy', 'friendship', 'frie...</td>\n",
       "      <td>Led by Woody, Andy's toys live happily in his ...</td>\n",
       "      <td>30000000</td>\n",
       "      <td>373554033</td>\n",
       "      <td>21.946943</td>\n",
       "      <td>7.7</td>\n",
       "      <td>5415</td>\n",
       "      <td>1995</td>\n",
       "      <td>6.698536</td>\n",
       "    </tr>\n",
       "    <tr>\n",
       "      <th>1</th>\n",
       "      <td>8844</td>\n",
       "      <td>tt0113497</td>\n",
       "      <td>Jumanji</td>\n",
       "      <td>104.0</td>\n",
       "      <td>['Adventure', 'Fantasy', 'Family']</td>\n",
       "      <td>['Robin Williams', 'Jonathan Hyde', 'Kirsten D...</td>\n",
       "      <td>['board game', 'disappearance', \"based on chil...</td>\n",
       "      <td>When siblings Judy and Peter discover an encha...</td>\n",
       "      <td>65000000</td>\n",
       "      <td>262797249</td>\n",
       "      <td>17.015539</td>\n",
       "      <td>6.9</td>\n",
       "      <td>2413</td>\n",
       "      <td>1995</td>\n",
       "      <td>6.650505</td>\n",
       "    </tr>\n",
       "  </tbody>\n",
       "</table>\n",
       "</div>"
      ],
      "text/plain": [
       "   movieId    imdb_id      title  runtime                              genres  \\\n",
       "0      862  tt0114709  Toy Story     81.0   ['Animation', 'Comedy', 'Family']   \n",
       "1     8844  tt0113497    Jumanji    104.0  ['Adventure', 'Fantasy', 'Family']   \n",
       "\n",
       "                                                cast  \\\n",
       "0  ['Tom Hanks', 'Tim Allen', 'Don Rickles', 'Jim...   \n",
       "1  ['Robin Williams', 'Jonathan Hyde', 'Kirsten D...   \n",
       "\n",
       "                                            keywords  \\\n",
       "0  ['jealousy', 'toy', 'boy', 'friendship', 'frie...   \n",
       "1  ['board game', 'disappearance', \"based on chil...   \n",
       "\n",
       "                                            overview    budget    revenue  \\\n",
       "0  Led by Woody, Andy's toys live happily in his ...  30000000  373554033   \n",
       "1  When siblings Judy and Peter discover an encha...  65000000  262797249   \n",
       "\n",
       "   popularity  vote_average  vote_count  year      IMDB  \n",
       "0   21.946943           7.7        5415  1995  6.698536  \n",
       "1   17.015539           6.9        2413  1995  6.650505  "
      ]
     },
     "execution_count": 8,
     "metadata": {},
     "output_type": "execute_result"
    }
   ],
   "source": [
    "#calculate IMDB and add to movieDF\n",
    "IMDB = ((V / (V + M)) * R) + ((M / (V + M)) * C)\n",
    "movieDF['IMDB'] = IMDB\n",
    "movieDF.head(2)"
   ]
  },
  {
   "cell_type": "code",
   "execution_count": 9,
   "metadata": {},
   "outputs": [],
   "source": [
    "#Function to display top list in neat format:\n",
    "def displayList(listName):\n",
    "    listName = list(listName.title)\n",
    "    for i in range(len(listName)):\n",
    "        print(\"#{:2d} - {:s}\".format(i+1, listName[i]))"
   ]
  },
  {
   "cell_type": "code",
   "execution_count": 10,
   "metadata": {},
   "outputs": [
    {
     "name": "stdout",
     "output_type": "stream",
     "text": [
      "######################################\n",
      "  Top 25 Movies Based on IMDB Rating\n",
      "######################################\n",
      "# 1 - Band of Brothers\n",
      "# 2 - Mommy\n",
      "# 3 - Sing Street\n",
      "# 4 - Paperman\n",
      "# 5 - Mary and Max\n",
      "# 6 - Once Upon a Time in America\n",
      "# 7 - The Elephant Man\n",
      "# 8 - The Man from Earth\n",
      "# 9 - The Best Offer\n",
      "#10 - Blue Velvet\n",
      "#11 - Okja\n",
      "#12 - Carlito's Way\n",
      "#13 - Before Sunset\n",
      "#14 - Girl, Interrupted\n",
      "#15 - Kung Fury\n",
      "#16 - The Little Prince\n",
      "#17 - Me and Earl and the Dying Girl\n",
      "#18 - Amadeus\n",
      "#19 - Raging Bull\n",
      "#20 - Rushmore\n",
      "#21 - Kubo and the Two Strings\n",
      "#22 - Before Sunrise\n",
      "#23 - Brazil\n",
      "#24 - Evil Dead II\n",
      "#25 - True Romance\n"
     ]
    }
   ],
   "source": [
    "#Create a list and display top 50 movies with the highest IMDB weighted Rating\n",
    "top25 = movieDF.sort_values(by=['IMDB'], ascending = False).head(25)\n",
    "print(\"######################################\\n  Top 25 Movies Based on IMDB Rating\\n######################################\")\n",
    "displayList(top25)"
   ]
  },
  {
   "cell_type": "code",
   "execution_count": 11,
   "metadata": {},
   "outputs": [
    {
     "name": "stdout",
     "output_type": "stream",
     "text": [
      "######################################\n",
      "  Top 25 Movies Based on Popularity\n",
      "######################################\n",
      "# 1 - Minions\n",
      "# 2 - Wonder Woman\n",
      "# 3 - Beauty and the Beast\n",
      "# 4 - Baby Driver\n",
      "# 5 - Big Hero 6\n",
      "# 6 - Deadpool\n",
      "# 7 - Guardians of the Galaxy Vol. 2\n",
      "# 8 - Avatar\n",
      "# 9 - John Wick\n",
      "#10 - Gone Girl\n",
      "#11 - The Hunger Games: Mockingjay - Part 1\n",
      "#12 - War for the Planet of the Apes\n",
      "#13 - Captain America: Civil War\n",
      "#14 - Pulp Fiction\n",
      "#15 - Pirates of the Caribbean: Dead Men Tell No Tales\n",
      "#16 - The Dark Knight\n",
      "#17 - Blade Runner\n",
      "#18 - The Avengers\n",
      "#19 - Captain Underpants: The First Epic Movie\n",
      "#20 - The Circle\n",
      "#21 - The Bad Batch\n",
      "#22 - The Maze Runner\n",
      "#23 - Dawn of the Planet of the Apes\n",
      "#24 - Alien: Covenant\n",
      "#25 - Ghost in the Shell\n"
     ]
    }
   ],
   "source": [
    "#Show top 25 movies based on popularity\n",
    "top25 = movieDF.sort_values(by=['popularity'], ascending = False).head(25)\n",
    "print(\"######################################\\n  Top 25 Movies Based on Popularity\\n######################################\")\n",
    "displayList(top25)"
   ]
  },
  {
   "cell_type": "markdown",
   "metadata": {},
   "source": [
    "__________________________"
   ]
  },
  {
   "cell_type": "markdown",
   "metadata": {},
   "source": [
    "# User Selection and User Rating\n",
    "The code below deals with the user choosing their top 5 movie picks and their rating of it."
   ]
  },
  {
   "cell_type": "code",
   "execution_count": 12,
   "metadata": {},
   "outputs": [],
   "source": [
    "# function to get user ratings and input, ignore errorchecking\n",
    "def askUser():\n",
    "    print(\"please enter your rating in this format: movie title and then your rating out from 0.0 - 10.0\")\n",
    "    \n",
    "    count = 0\n",
    "    userRatings = []\n",
    "    while(count != 5):\n",
    "        movieTitle = input(\"Enter movie Title: \")\n",
    "        rating = input(\"Enter your rating for {}: \".format(movieTitle))\n",
    "        userRatings.append([movieTitle.strip(), rating.strip()])\n",
    "        count += 1\n",
    "    return userRatings"
   ]
  },
  {
   "cell_type": "code",
   "execution_count": 13,
   "metadata": {},
   "outputs": [
    {
     "name": "stdout",
     "output_type": "stream",
     "text": [
      "please enter your rating in this format: movie title and then your rating out from 0.0 - 10.0\n",
      "Enter movie Title: 1408\n",
      "Enter your rating for 1408: 9\n",
      "Enter movie Title: 2 Days in Paris\n",
      "Enter your rating for 2 Days in Paris: 7\n",
      "Enter movie Title: 2010\n",
      "Enter your rating for 2010: 8\n",
      "Enter movie Title: 24 Hour Party People\n",
      "Enter your rating for 24 Hour Party People: 8\n",
      "Enter movie Title: xXx\n",
      "Enter your rating for xXx: 10\n"
     ]
    }
   ],
   "source": [
    "userRatings = askUser()"
   ]
  },
  {
   "cell_type": "code",
   "execution_count": 14,
   "metadata": {},
   "outputs": [
    {
     "data": {
      "text/html": [
       "<div>\n",
       "<style scoped>\n",
       "    .dataframe tbody tr th:only-of-type {\n",
       "        vertical-align: middle;\n",
       "    }\n",
       "\n",
       "    .dataframe tbody tr th {\n",
       "        vertical-align: top;\n",
       "    }\n",
       "\n",
       "    .dataframe thead th {\n",
       "        text-align: right;\n",
       "    }\n",
       "</style>\n",
       "<table border=\"1\" class=\"dataframe\">\n",
       "  <thead>\n",
       "    <tr style=\"text-align: right;\">\n",
       "      <th></th>\n",
       "      <th>MovieTitle</th>\n",
       "      <th>Rating</th>\n",
       "    </tr>\n",
       "  </thead>\n",
       "  <tbody>\n",
       "    <tr>\n",
       "      <th>0</th>\n",
       "      <td>1408</td>\n",
       "      <td>9</td>\n",
       "    </tr>\n",
       "    <tr>\n",
       "      <th>1</th>\n",
       "      <td>2 Days in Paris</td>\n",
       "      <td>7</td>\n",
       "    </tr>\n",
       "    <tr>\n",
       "      <th>2</th>\n",
       "      <td>2010</td>\n",
       "      <td>8</td>\n",
       "    </tr>\n",
       "    <tr>\n",
       "      <th>3</th>\n",
       "      <td>24 Hour Party People</td>\n",
       "      <td>8</td>\n",
       "    </tr>\n",
       "    <tr>\n",
       "      <th>4</th>\n",
       "      <td>xXx</td>\n",
       "      <td>10</td>\n",
       "    </tr>\n",
       "  </tbody>\n",
       "</table>\n",
       "</div>"
      ],
      "text/plain": [
       "             MovieTitle Rating\n",
       "0                  1408      9\n",
       "1       2 Days in Paris      7\n",
       "2                  2010      8\n",
       "3  24 Hour Party People      8\n",
       "4                   xXx     10"
      ]
     },
     "execution_count": 14,
     "metadata": {},
     "output_type": "execute_result"
    }
   ],
   "source": [
    "userRatings = pd.DataFrame(data = userRatings,columns = [\"MovieTitle\",\"Rating\"])\n",
    "userRatings"
   ]
  },
  {
   "cell_type": "markdown",
   "metadata": {},
   "source": [
    "------------------------"
   ]
  },
  {
   "cell_type": "markdown",
   "metadata": {},
   "source": [
    "# ML Model 1: TF-IDF + Cosine Similarity Recommender\n",
    "Make recommendations based on Term frequency and inverse document frequency. It calculates the tfidf values of the overview section and find the movies with the closest cosine similarity based on the user input."
   ]
  },
  {
   "cell_type": "code",
   "execution_count": 15,
   "metadata": {},
   "outputs": [
    {
     "data": {
      "text/html": [
       "<div>\n",
       "<style scoped>\n",
       "    .dataframe tbody tr th:only-of-type {\n",
       "        vertical-align: middle;\n",
       "    }\n",
       "\n",
       "    .dataframe tbody tr th {\n",
       "        vertical-align: top;\n",
       "    }\n",
       "\n",
       "    .dataframe thead th {\n",
       "        text-align: right;\n",
       "    }\n",
       "</style>\n",
       "<table border=\"1\" class=\"dataframe\">\n",
       "  <thead>\n",
       "    <tr style=\"text-align: right;\">\n",
       "      <th></th>\n",
       "      <th>movieId</th>\n",
       "      <th>imdb_id</th>\n",
       "      <th>title</th>\n",
       "      <th>runtime</th>\n",
       "      <th>genres</th>\n",
       "      <th>cast</th>\n",
       "      <th>keywords</th>\n",
       "      <th>overview</th>\n",
       "      <th>budget</th>\n",
       "      <th>revenue</th>\n",
       "      <th>popularity</th>\n",
       "      <th>vote_average</th>\n",
       "      <th>vote_count</th>\n",
       "      <th>year</th>\n",
       "      <th>IMDB</th>\n",
       "    </tr>\n",
       "  </thead>\n",
       "  <tbody>\n",
       "    <tr>\n",
       "      <th>0</th>\n",
       "      <td>862</td>\n",
       "      <td>tt0114709</td>\n",
       "      <td>Toy Story</td>\n",
       "      <td>81.0</td>\n",
       "      <td>['Animation', 'Comedy', 'Family']</td>\n",
       "      <td>['Tom Hanks', 'Tim Allen', 'Don Rickles', 'Jim...</td>\n",
       "      <td>['jealousy', 'toy', 'boy', 'friendship', 'frie...</td>\n",
       "      <td>Led by Woody, Andy's toys live happily in his ...</td>\n",
       "      <td>30000000</td>\n",
       "      <td>373554033</td>\n",
       "      <td>21.946943</td>\n",
       "      <td>7.7</td>\n",
       "      <td>5415</td>\n",
       "      <td>1995</td>\n",
       "      <td>6.698536</td>\n",
       "    </tr>\n",
       "    <tr>\n",
       "      <th>1</th>\n",
       "      <td>8844</td>\n",
       "      <td>tt0113497</td>\n",
       "      <td>Jumanji</td>\n",
       "      <td>104.0</td>\n",
       "      <td>['Adventure', 'Fantasy', 'Family']</td>\n",
       "      <td>['Robin Williams', 'Jonathan Hyde', 'Kirsten D...</td>\n",
       "      <td>['board game', 'disappearance', \"based on chil...</td>\n",
       "      <td>When siblings Judy and Peter discover an encha...</td>\n",
       "      <td>65000000</td>\n",
       "      <td>262797249</td>\n",
       "      <td>17.015539</td>\n",
       "      <td>6.9</td>\n",
       "      <td>2413</td>\n",
       "      <td>1995</td>\n",
       "      <td>6.650505</td>\n",
       "    </tr>\n",
       "  </tbody>\n",
       "</table>\n",
       "</div>"
      ],
      "text/plain": [
       "   movieId    imdb_id      title  runtime                              genres  \\\n",
       "0      862  tt0114709  Toy Story     81.0   ['Animation', 'Comedy', 'Family']   \n",
       "1     8844  tt0113497    Jumanji    104.0  ['Adventure', 'Fantasy', 'Family']   \n",
       "\n",
       "                                                cast  \\\n",
       "0  ['Tom Hanks', 'Tim Allen', 'Don Rickles', 'Jim...   \n",
       "1  ['Robin Williams', 'Jonathan Hyde', 'Kirsten D...   \n",
       "\n",
       "                                            keywords  \\\n",
       "0  ['jealousy', 'toy', 'boy', 'friendship', 'frie...   \n",
       "1  ['board game', 'disappearance', \"based on chil...   \n",
       "\n",
       "                                            overview    budget    revenue  \\\n",
       "0  Led by Woody, Andy's toys live happily in his ...  30000000  373554033   \n",
       "1  When siblings Judy and Peter discover an encha...  65000000  262797249   \n",
       "\n",
       "   popularity  vote_average  vote_count  year      IMDB  \n",
       "0   21.946943           7.7        5415  1995  6.698536  \n",
       "1   17.015539           6.9        2413  1995  6.650505  "
      ]
     },
     "execution_count": 15,
     "metadata": {},
     "output_type": "execute_result"
    }
   ],
   "source": [
    "movieDF.head(2)"
   ]
  },
  {
   "cell_type": "code",
   "execution_count": 16,
   "metadata": {},
   "outputs": [
    {
     "data": {
      "text/plain": [
       "0        Led by Woody, Andy's toys live happily in his ...\n",
       "1        When siblings Judy and Peter discover an encha...\n",
       "2        A family wedding reignites the ancient feud be...\n",
       "3        Cheated on, mistreated and stepped on, the wom...\n",
       "4        Just when George Banks has recovered from his ...\n",
       "                               ...                        \n",
       "16465    Pretty, popular, and slim high-schooler Aly Sc...\n",
       "16466    Hyperactive teenager Kelly is enrolled into a ...\n",
       "16467    It's Halloween in the 100 Acre Wood, and Roo's...\n",
       "16468    In this true-crime documentary, we delve into ...\n",
       "16469    A film archivist revisits the story of Rustin ...\n",
       "Name: overview, Length: 16470, dtype: object"
      ]
     },
     "execution_count": 16,
     "metadata": {},
     "output_type": "execute_result"
    }
   ],
   "source": [
    "#Store overview as strings into movieCorpus\n",
    "movieCorpus = movieDF['overview']\n",
    "movieCorpus"
   ]
  },
  {
   "cell_type": "code",
   "execution_count": 17,
   "metadata": {},
   "outputs": [
    {
     "name": "stdout",
     "output_type": "stream",
     "text": [
      "Led by Woody, Andy's toys live happily in his room until Andy's birthday brings Buzz Lightyear onto the scene. Afraid of losing his place in Andy's heart, Woody plots against Buzz. But when circumstances separate Buzz and Woody from their owner, the duo eventually learns to put aside their differences.\n"
     ]
    }
   ],
   "source": [
    "print(movieCorpus[0])"
   ]
  },
  {
   "cell_type": "code",
   "execution_count": 18,
   "metadata": {},
   "outputs": [
    {
     "data": {
      "text/plain": [
       "(16457, 407910)"
      ]
     },
     "execution_count": 18,
     "metadata": {},
     "output_type": "execute_result"
    }
   ],
   "source": [
    "tf = TfidfVectorizer(analyzer='word',ngram_range=(1, 2),min_df=0, stop_words='english')\n",
    "tfidf_matrix = tf.fit_transform(movieDF['overview'].dropna())\n",
    "tfidf_matrix.shape"
   ]
  },
  {
   "cell_type": "code",
   "execution_count": 19,
   "metadata": {},
   "outputs": [
    {
     "data": {
      "text/plain": [
       "array([[1.        , 0.00658054, 0.        , 0.        ],\n",
       "       [0.00658054, 1.        , 0.01621647, 0.        ],\n",
       "       [0.        , 0.01621647, 1.        , 0.        ],\n",
       "       [0.        , 0.        , 0.        , 1.        ]])"
      ]
     },
     "execution_count": 19,
     "metadata": {},
     "output_type": "execute_result"
    }
   ],
   "source": [
    "cosine_sim = linear_kernel(tfidf_matrix, tfidf_matrix)\n",
    "cosine_sim[:4, :4]"
   ]
  },
  {
   "cell_type": "code",
   "execution_count": 20,
   "metadata": {},
   "outputs": [],
   "source": [
    "# Build a 1-dimensional array with movie titles\n",
    "titles = movieDF['title']\n",
    "indices = pd.Series(movieDF.index, index=movieDF['title'])"
   ]
  },
  {
   "cell_type": "code",
   "execution_count": 21,
   "metadata": {},
   "outputs": [],
   "source": [
    "# Function that get movie recommendations based on the cosine similarity score of movie overview\n",
    "def tfidf_recommender(title):\n",
    "    idx = indices[title]\n",
    "    sim_scores = list(enumerate(cosine_sim[idx]))\n",
    "    sim_scores = sorted(sim_scores, key=lambda x: x[1], reverse=True)\n",
    "    sim_scores = sim_scores[1:21]\n",
    "    movie_indices = [i[0] for i in sim_scores]\n",
    "    return titles.iloc[movie_indices].head(5)"
   ]
  },
  {
   "cell_type": "code",
   "execution_count": 22,
   "metadata": {},
   "outputs": [
    {
     "data": {
      "text/plain": [
       "9853     James Gandolfini: Tribute To A Friend\n",
       "10285                     Bulletproof Salesman\n",
       "2749                     America's Sweethearts\n",
       "3883                  White Hunter Black Heart\n",
       "350                             Dangerous Game\n",
       "Name: title, dtype: object"
      ]
     },
     "execution_count": 22,
     "metadata": {},
     "output_type": "execute_result"
    }
   ],
   "source": [
    "tfidf_recommender('Avatar')"
   ]
  },
  {
   "cell_type": "code",
   "execution_count": 23,
   "metadata": {},
   "outputs": [
    {
     "name": "stdout",
     "output_type": "stream",
     "text": [
      "For:  1408\n",
      "11825          Old Enough\n",
      "15083     Vincent N Roxxy\n",
      "12097    Hot Girls Wanted\n",
      "10898         Seventh Son\n",
      "12514        The Opponent\n",
      "Name: title, dtype: object \n",
      "\n",
      "For:  2 Days in Paris\n",
      "4114                                      The Reckoning\n",
      "13030                              Hotel Transylvania 2\n",
      "6190     VeggieTales: The Pirates Who Don't Do Anything\n",
      "8954                                       The Congress\n",
      "441                                   Striking Distance\n",
      "Name: title, dtype: object \n",
      "\n",
      "For:  2010\n",
      "9389      Just Before Dawn\n",
      "11284    Midnight Crossing\n",
      "10038     Messages Deleted\n",
      "2886        Mission to Mir\n",
      "10575       The Fraternity\n",
      "Name: title, dtype: object \n",
      "\n",
      "For:  24 Hour Party People\n",
      "13177          Familiar Strangers\n",
      "3688      Only the Strong Survive\n",
      "3625           Cradle 2 the Grave\n",
      "12348    Mickey's Christmas Carol\n",
      "4250                 Pure Country\n",
      "Name: title, dtype: object \n",
      "\n",
      "For:  xXx\n",
      "15441    Perry Mason: The Case of the Fatal Framing\n",
      "4870              Charlie and the Chocolate Factory\n",
      "2565                                    Point Break\n",
      "5298        The Three Burials of Melquiades Estrada\n",
      "14206                                    Wavemakers\n",
      "Name: title, dtype: object \n",
      "\n"
     ]
    }
   ],
   "source": [
    "# Get 5 recommendations for each user input movie and store it into results array\n",
    "tfidfRecommendations = []\n",
    "for movie in userRatings['MovieTitle']:\n",
    "    recommendation = tfidf_recommender(movie)\n",
    "    print(\"For: \", movie)\n",
    "    print(recommendation, \"\\n\") \n",
    "    tfidfRecommendations.append(recommendation)"
   ]
  },
  {
   "cell_type": "markdown",
   "metadata": {},
   "source": [
    "# ML Model 2: KNN Search\n",
    "Makes recommendations based on an unsupervised algorithm: K-nearest Neighborhood search. It searches through cleanedSmallRatings.csv and finds the closest distance between user input ratings."
   ]
  },
  {
   "cell_type": "code",
   "execution_count": 24,
   "metadata": {},
   "outputs": [
    {
     "data": {
      "text/html": [
       "<div>\n",
       "<style scoped>\n",
       "    .dataframe tbody tr th:only-of-type {\n",
       "        vertical-align: middle;\n",
       "    }\n",
       "\n",
       "    .dataframe tbody tr th {\n",
       "        vertical-align: top;\n",
       "    }\n",
       "\n",
       "    .dataframe thead th {\n",
       "        text-align: right;\n",
       "    }\n",
       "</style>\n",
       "<table border=\"1\" class=\"dataframe\">\n",
       "  <thead>\n",
       "    <tr style=\"text-align: right;\">\n",
       "      <th></th>\n",
       "      <th>movieId</th>\n",
       "      <th>title</th>\n",
       "      <th>runtime</th>\n",
       "      <th>genres</th>\n",
       "      <th>cast</th>\n",
       "      <th>budget</th>\n",
       "      <th>revenue</th>\n",
       "      <th>popularity</th>\n",
       "      <th>vote_average</th>\n",
       "      <th>vote_count</th>\n",
       "      <th>year</th>\n",
       "    </tr>\n",
       "  </thead>\n",
       "  <tbody>\n",
       "    <tr>\n",
       "      <th>0</th>\n",
       "      <td>862</td>\n",
       "      <td>Toy Story</td>\n",
       "      <td>81.0</td>\n",
       "      <td>['Animation', 'Comedy', 'Family']</td>\n",
       "      <td>['Tom Hanks', 'Tim Allen', 'Don Rickles', 'Jim...</td>\n",
       "      <td>30000000</td>\n",
       "      <td>373554033</td>\n",
       "      <td>21.946943</td>\n",
       "      <td>7.7</td>\n",
       "      <td>5415</td>\n",
       "      <td>1995</td>\n",
       "    </tr>\n",
       "    <tr>\n",
       "      <th>1</th>\n",
       "      <td>8844</td>\n",
       "      <td>Jumanji</td>\n",
       "      <td>104.0</td>\n",
       "      <td>['Adventure', 'Fantasy', 'Family']</td>\n",
       "      <td>['Robin Williams', 'Jonathan Hyde', 'Kirsten D...</td>\n",
       "      <td>65000000</td>\n",
       "      <td>262797249</td>\n",
       "      <td>17.015539</td>\n",
       "      <td>6.9</td>\n",
       "      <td>2413</td>\n",
       "      <td>1995</td>\n",
       "    </tr>\n",
       "    <tr>\n",
       "      <th>2</th>\n",
       "      <td>15602</td>\n",
       "      <td>Grumpier Old Men</td>\n",
       "      <td>101.0</td>\n",
       "      <td>['Romance', 'Comedy']</td>\n",
       "      <td>['Walter Matthau', 'Jack Lemmon', 'Ann-Margret...</td>\n",
       "      <td>0</td>\n",
       "      <td>0</td>\n",
       "      <td>11.712900</td>\n",
       "      <td>6.5</td>\n",
       "      <td>92</td>\n",
       "      <td>1995</td>\n",
       "    </tr>\n",
       "  </tbody>\n",
       "</table>\n",
       "</div>"
      ],
      "text/plain": [
       "   movieId             title  runtime                              genres  \\\n",
       "0      862         Toy Story     81.0   ['Animation', 'Comedy', 'Family']   \n",
       "1     8844           Jumanji    104.0  ['Adventure', 'Fantasy', 'Family']   \n",
       "2    15602  Grumpier Old Men    101.0               ['Romance', 'Comedy']   \n",
       "\n",
       "                                                cast    budget    revenue  \\\n",
       "0  ['Tom Hanks', 'Tim Allen', 'Don Rickles', 'Jim...  30000000  373554033   \n",
       "1  ['Robin Williams', 'Jonathan Hyde', 'Kirsten D...  65000000  262797249   \n",
       "2  ['Walter Matthau', 'Jack Lemmon', 'Ann-Margret...         0          0   \n",
       "\n",
       "   popularity  vote_average  vote_count  year  \n",
       "0   21.946943           7.7        5415  1995  \n",
       "1   17.015539           6.9        2413  1995  \n",
       "2   11.712900           6.5          92  1995  "
      ]
     },
     "execution_count": 24,
     "metadata": {},
     "output_type": "execute_result"
    }
   ],
   "source": [
    "#data Preprocessing\n",
    "movie_data = movieDF\n",
    "movie_rating = smallRatingsDF\n",
    "movie_data = movie_data.rename(columns = {'id':'movieId'})\n",
    "movie_data = movie_data[['movieId', 'title', 'runtime', 'genres',\n",
    "       'cast', 'budget', 'revenue', 'popularity',\n",
    "       'vote_average', 'vote_count', 'year']]\n",
    "movie_data.head(3)"
   ]
  },
  {
   "cell_type": "code",
   "execution_count": 25,
   "metadata": {},
   "outputs": [],
   "source": [
    "# merge data\n",
    "new_movie_data = pd.merge(movie_data, movie_rating, on='movieId')"
   ]
  },
  {
   "cell_type": "code",
   "execution_count": 26,
   "metadata": {},
   "outputs": [
    {
     "data": {
      "text/html": [
       "<div>\n",
       "<style scoped>\n",
       "    .dataframe tbody tr th:only-of-type {\n",
       "        vertical-align: middle;\n",
       "    }\n",
       "\n",
       "    .dataframe tbody tr th {\n",
       "        vertical-align: top;\n",
       "    }\n",
       "\n",
       "    .dataframe thead th {\n",
       "        text-align: right;\n",
       "    }\n",
       "</style>\n",
       "<table border=\"1\" class=\"dataframe\">\n",
       "  <thead>\n",
       "    <tr style=\"text-align: right;\">\n",
       "      <th></th>\n",
       "      <th>title</th>\n",
       "      <th>totalRatingCount</th>\n",
       "    </tr>\n",
       "  </thead>\n",
       "  <tbody>\n",
       "    <tr>\n",
       "      <th>0</th>\n",
       "      <td>!Women Art Revolution</td>\n",
       "      <td>2</td>\n",
       "    </tr>\n",
       "    <tr>\n",
       "      <th>1</th>\n",
       "      <td>10 Items or Less</td>\n",
       "      <td>11</td>\n",
       "    </tr>\n",
       "    <tr>\n",
       "      <th>2</th>\n",
       "      <td>10 Things I Hate About You</td>\n",
       "      <td>7</td>\n",
       "    </tr>\n",
       "    <tr>\n",
       "      <th>3</th>\n",
       "      <td>10,000 BC</td>\n",
       "      <td>3</td>\n",
       "    </tr>\n",
       "    <tr>\n",
       "      <th>4</th>\n",
       "      <td>11'09''01 - September 11</td>\n",
       "      <td>1</td>\n",
       "    </tr>\n",
       "  </tbody>\n",
       "</table>\n",
       "</div>"
      ],
      "text/plain": [
       "                        title  totalRatingCount\n",
       "0       !Women Art Revolution                 2\n",
       "1            10 Items or Less                11\n",
       "2  10 Things I Hate About You                 7\n",
       "3                   10,000 BC                 3\n",
       "4    11'09''01 - September 11                 1"
      ]
     },
     "execution_count": 26,
     "metadata": {},
     "output_type": "execute_result"
    }
   ],
   "source": [
    "## Drop duplicate data\n",
    "combine_movie_rating = new_movie_data.dropna(axis = 0, subset = ['title'])\n",
    "\n",
    "## Group data and rename the column name for another dataframe\n",
    "movie_ratingCount = (new_movie_data.\n",
    "     groupby(by = ['title'])['rating'].\n",
    "     count().\n",
    "     reset_index().\n",
    "     rename(columns = {'rating': 'totalRatingCount'})\n",
    "     [['title', 'totalRatingCount']]\n",
    "    )\n",
    "movie_ratingCount.head()"
   ]
  },
  {
   "cell_type": "code",
   "execution_count": 27,
   "metadata": {},
   "outputs": [
    {
     "data": {
      "text/html": [
       "<div>\n",
       "<style scoped>\n",
       "    .dataframe tbody tr th:only-of-type {\n",
       "        vertical-align: middle;\n",
       "    }\n",
       "\n",
       "    .dataframe tbody tr th {\n",
       "        vertical-align: top;\n",
       "    }\n",
       "\n",
       "    .dataframe thead th {\n",
       "        text-align: right;\n",
       "    }\n",
       "</style>\n",
       "<table border=\"1\" class=\"dataframe\">\n",
       "  <thead>\n",
       "    <tr style=\"text-align: right;\">\n",
       "      <th></th>\n",
       "      <th>movieId</th>\n",
       "      <th>title</th>\n",
       "      <th>runtime</th>\n",
       "      <th>genres</th>\n",
       "      <th>cast</th>\n",
       "      <th>budget</th>\n",
       "      <th>revenue</th>\n",
       "      <th>popularity</th>\n",
       "      <th>vote_average</th>\n",
       "      <th>vote_count</th>\n",
       "      <th>year</th>\n",
       "      <th>Unnamed: 0</th>\n",
       "      <th>userId</th>\n",
       "      <th>rating</th>\n",
       "      <th>timestamp</th>\n",
       "      <th>totalRatingCount</th>\n",
       "    </tr>\n",
       "  </thead>\n",
       "  <tbody>\n",
       "    <tr>\n",
       "      <th>0</th>\n",
       "      <td>949</td>\n",
       "      <td>Heat</td>\n",
       "      <td>170.0</td>\n",
       "      <td>['Action', 'Crime', 'Drama', 'Thriller']</td>\n",
       "      <td>['Al Pacino', 'Robert De Niro', 'Val Kilmer', ...</td>\n",
       "      <td>60000000</td>\n",
       "      <td>187436818</td>\n",
       "      <td>17.924927</td>\n",
       "      <td>7.7</td>\n",
       "      <td>1886</td>\n",
       "      <td>1995</td>\n",
       "      <td>4118</td>\n",
       "      <td>23</td>\n",
       "      <td>3.5</td>\n",
       "      <td>1148721092</td>\n",
       "      <td>16</td>\n",
       "    </tr>\n",
       "    <tr>\n",
       "      <th>1</th>\n",
       "      <td>949</td>\n",
       "      <td>Heat</td>\n",
       "      <td>170.0</td>\n",
       "      <td>['Action', 'Crime', 'Drama', 'Thriller']</td>\n",
       "      <td>['Al Pacino', 'Robert De Niro', 'Val Kilmer', ...</td>\n",
       "      <td>60000000</td>\n",
       "      <td>187436818</td>\n",
       "      <td>17.924927</td>\n",
       "      <td>7.7</td>\n",
       "      <td>1886</td>\n",
       "      <td>1995</td>\n",
       "      <td>15468</td>\n",
       "      <td>102</td>\n",
       "      <td>4.0</td>\n",
       "      <td>956598942</td>\n",
       "      <td>16</td>\n",
       "    </tr>\n",
       "  </tbody>\n",
       "</table>\n",
       "</div>"
      ],
      "text/plain": [
       "   movieId title  runtime                                    genres  \\\n",
       "0      949  Heat    170.0  ['Action', 'Crime', 'Drama', 'Thriller']   \n",
       "1      949  Heat    170.0  ['Action', 'Crime', 'Drama', 'Thriller']   \n",
       "\n",
       "                                                cast    budget    revenue  \\\n",
       "0  ['Al Pacino', 'Robert De Niro', 'Val Kilmer', ...  60000000  187436818   \n",
       "1  ['Al Pacino', 'Robert De Niro', 'Val Kilmer', ...  60000000  187436818   \n",
       "\n",
       "   popularity  vote_average  vote_count  year  Unnamed: 0  userId  rating  \\\n",
       "0   17.924927           7.7        1886  1995        4118      23     3.5   \n",
       "1   17.924927           7.7        1886  1995       15468     102     4.0   \n",
       "\n",
       "    timestamp  totalRatingCount  \n",
       "0  1148721092                16  \n",
       "1   956598942                16  "
      ]
     },
     "execution_count": 27,
     "metadata": {},
     "output_type": "execute_result"
    }
   ],
   "source": [
    "# Merge 2 datasets by title\n",
    "rating_with_totalRatingCount = combine_movie_rating.merge(movie_ratingCount, left_on = 'title', right_on = 'title', how = 'left')\n",
    "rating_with_totalRatingCount.head(2)"
   ]
  },
  {
   "cell_type": "code",
   "execution_count": 28,
   "metadata": {},
   "outputs": [],
   "source": [
    "## Filter movie that have ratie above 4.5\n",
    "movie_list = rating_with_totalRatingCount[rating_with_totalRatingCount.rating >=4.5]\n",
    "# Pick 30 sample\n",
    "movie_list_sample = movie_list.sample(30) "
   ]
  },
  {
   "cell_type": "code",
   "execution_count": 29,
   "metadata": {},
   "outputs": [],
   "source": [
    "# Drop duplicate and reshape data.\n",
    "movie_list_sample = movie_list_sample.drop_duplicates(['userId', 'title'])\n",
    "movie_list_sample_pivot = movie_list_sample.pivot(index = 'title', columns = 'userId', values = 'rating').fillna(0)"
   ]
  },
  {
   "cell_type": "code",
   "execution_count": 30,
   "metadata": {},
   "outputs": [
    {
     "data": {
      "text/plain": [
       "NearestNeighbors(algorithm='brute', leaf_size=30, metric='cosine',\n",
       "                 metric_params=None, n_jobs=None, n_neighbors=11, p=2,\n",
       "                 radius=1.0)"
      ]
     },
     "execution_count": 30,
     "metadata": {},
     "output_type": "execute_result"
    }
   ],
   "source": [
    "## KNN for unsupervised learner for implementing neighbor search\n",
    "## By rating\n",
    "## Can tuned parameter such as metric, n_neighbors.\n",
    "rating_with_totalRatingCount = rating_with_totalRatingCount.drop_duplicates(['userId', 'title'])\n",
    "rating_with_totalRatingCount_pivot = rating_with_totalRatingCount.pivot(index = 'movieId', columns = 'userId', values = 'rating').fillna(0)\n",
    "rating_with_totalRatingCount_matrix = csr_matrix(rating_with_totalRatingCount_pivot.values)\n",
    "\n",
    "model_knn = NearestNeighbors(n_neighbors = 11,metric = 'cosine', algorithm = 'brute')\n",
    "model_knn.fit(rating_with_totalRatingCount_matrix)"
   ]
  },
  {
   "cell_type": "code",
   "execution_count": 31,
   "metadata": {},
   "outputs": [
    {
     "data": {
      "text/html": [
       "<div>\n",
       "<style scoped>\n",
       "    .dataframe tbody tr th:only-of-type {\n",
       "        vertical-align: middle;\n",
       "    }\n",
       "\n",
       "    .dataframe tbody tr th {\n",
       "        vertical-align: top;\n",
       "    }\n",
       "\n",
       "    .dataframe thead th {\n",
       "        text-align: right;\n",
       "    }\n",
       "</style>\n",
       "<table border=\"1\" class=\"dataframe\">\n",
       "  <thead>\n",
       "    <tr style=\"text-align: right;\">\n",
       "      <th></th>\n",
       "      <th>movieId</th>\n",
       "      <th>title</th>\n",
       "      <th>runtime</th>\n",
       "      <th>genres</th>\n",
       "      <th>cast</th>\n",
       "      <th>budget</th>\n",
       "      <th>revenue</th>\n",
       "      <th>popularity</th>\n",
       "      <th>vote_average</th>\n",
       "      <th>vote_count</th>\n",
       "      <th>year</th>\n",
       "      <th>Unnamed: 0</th>\n",
       "      <th>userId</th>\n",
       "      <th>rating</th>\n",
       "      <th>timestamp</th>\n",
       "      <th>totalRatingCount</th>\n",
       "    </tr>\n",
       "  </thead>\n",
       "  <tbody>\n",
       "    <tr>\n",
       "      <th>3</th>\n",
       "      <td>949</td>\n",
       "      <td>Heat</td>\n",
       "      <td>170.0</td>\n",
       "      <td>['Action', 'Crime', 'Drama', 'Thriller']</td>\n",
       "      <td>['Al Pacino', 'Robert De Niro', 'Val Kilmer', ...</td>\n",
       "      <td>60000000</td>\n",
       "      <td>187436818</td>\n",
       "      <td>17.924927</td>\n",
       "      <td>7.7</td>\n",
       "      <td>1886</td>\n",
       "      <td>1995</td>\n",
       "      <td>33669</td>\n",
       "      <td>242</td>\n",
       "      <td>5.0</td>\n",
       "      <td>956688825</td>\n",
       "      <td>16</td>\n",
       "    </tr>\n",
       "    <tr>\n",
       "      <th>7</th>\n",
       "      <td>949</td>\n",
       "      <td>Heat</td>\n",
       "      <td>170.0</td>\n",
       "      <td>['Action', 'Crime', 'Drama', 'Thriller']</td>\n",
       "      <td>['Al Pacino', 'Robert De Niro', 'Val Kilmer', ...</td>\n",
       "      <td>60000000</td>\n",
       "      <td>187436818</td>\n",
       "      <td>17.924927</td>\n",
       "      <td>7.7</td>\n",
       "      <td>1886</td>\n",
       "      <td>1995</td>\n",
       "      <td>53461</td>\n",
       "      <td>387</td>\n",
       "      <td>5.0</td>\n",
       "      <td>974670478</td>\n",
       "      <td>16</td>\n",
       "    </tr>\n",
       "    <tr>\n",
       "      <th>8</th>\n",
       "      <td>949</td>\n",
       "      <td>Heat</td>\n",
       "      <td>170.0</td>\n",
       "      <td>['Action', 'Crime', 'Drama', 'Thriller']</td>\n",
       "      <td>['Al Pacino', 'Robert De Niro', 'Val Kilmer', ...</td>\n",
       "      <td>60000000</td>\n",
       "      <td>187436818</td>\n",
       "      <td>17.924927</td>\n",
       "      <td>7.7</td>\n",
       "      <td>1886</td>\n",
       "      <td>1995</td>\n",
       "      <td>61635</td>\n",
       "      <td>452</td>\n",
       "      <td>4.5</td>\n",
       "      <td>1133735550</td>\n",
       "      <td>16</td>\n",
       "    </tr>\n",
       "    <tr>\n",
       "      <th>19</th>\n",
       "      <td>1408</td>\n",
       "      <td>Cutthroat Island</td>\n",
       "      <td>119.0</td>\n",
       "      <td>['Action', 'Adventure']</td>\n",
       "      <td>['Geena Davis', 'Matthew Modine', 'Frank Lange...</td>\n",
       "      <td>98000000</td>\n",
       "      <td>10017322</td>\n",
       "      <td>7.284477</td>\n",
       "      <td>5.7</td>\n",
       "      <td>137</td>\n",
       "      <td>1995</td>\n",
       "      <td>800</td>\n",
       "      <td>11</td>\n",
       "      <td>5.0</td>\n",
       "      <td>1391658667</td>\n",
       "      <td>43</td>\n",
       "    </tr>\n",
       "    <tr>\n",
       "      <th>23</th>\n",
       "      <td>1408</td>\n",
       "      <td>Cutthroat Island</td>\n",
       "      <td>119.0</td>\n",
       "      <td>['Action', 'Adventure']</td>\n",
       "      <td>['Geena Davis', 'Matthew Modine', 'Frank Lange...</td>\n",
       "      <td>98000000</td>\n",
       "      <td>10017322</td>\n",
       "      <td>7.284477</td>\n",
       "      <td>5.7</td>\n",
       "      <td>137</td>\n",
       "      <td>1995</td>\n",
       "      <td>9454</td>\n",
       "      <td>63</td>\n",
       "      <td>4.5</td>\n",
       "      <td>1079098267</td>\n",
       "      <td>43</td>\n",
       "    </tr>\n",
       "    <tr>\n",
       "      <th>...</th>\n",
       "      <td>...</td>\n",
       "      <td>...</td>\n",
       "      <td>...</td>\n",
       "      <td>...</td>\n",
       "      <td>...</td>\n",
       "      <td>...</td>\n",
       "      <td>...</td>\n",
       "      <td>...</td>\n",
       "      <td>...</td>\n",
       "      <td>...</td>\n",
       "      <td>...</td>\n",
       "      <td>...</td>\n",
       "      <td>...</td>\n",
       "      <td>...</td>\n",
       "      <td>...</td>\n",
       "      <td>...</td>\n",
       "    </tr>\n",
       "    <tr>\n",
       "      <th>23729</th>\n",
       "      <td>2791</td>\n",
       "      <td>The Chronicles of Riddick: Dark Fury</td>\n",
       "      <td>34.0</td>\n",
       "      <td>['Action', 'Animation', 'Science Fiction', 'Th...</td>\n",
       "      <td>['Vin Diesel', 'Rhiana Griffith', 'Keith David...</td>\n",
       "      <td>0</td>\n",
       "      <td>0</td>\n",
       "      <td>1.628881</td>\n",
       "      <td>5.9</td>\n",
       "      <td>157</td>\n",
       "      <td>2004</td>\n",
       "      <td>96571</td>\n",
       "      <td>646</td>\n",
       "      <td>5.0</td>\n",
       "      <td>953449488</td>\n",
       "      <td>106</td>\n",
       "    </tr>\n",
       "    <tr>\n",
       "      <th>23730</th>\n",
       "      <td>2791</td>\n",
       "      <td>The Chronicles of Riddick: Dark Fury</td>\n",
       "      <td>34.0</td>\n",
       "      <td>['Action', 'Animation', 'Science Fiction', 'Th...</td>\n",
       "      <td>['Vin Diesel', 'Rhiana Griffith', 'Keith David...</td>\n",
       "      <td>0</td>\n",
       "      <td>0</td>\n",
       "      <td>1.628881</td>\n",
       "      <td>5.9</td>\n",
       "      <td>157</td>\n",
       "      <td>2004</td>\n",
       "      <td>97789</td>\n",
       "      <td>654</td>\n",
       "      <td>4.5</td>\n",
       "      <td>1145390525</td>\n",
       "      <td>106</td>\n",
       "    </tr>\n",
       "    <tr>\n",
       "      <th>23731</th>\n",
       "      <td>2791</td>\n",
       "      <td>The Chronicles of Riddick: Dark Fury</td>\n",
       "      <td>34.0</td>\n",
       "      <td>['Action', 'Animation', 'Science Fiction', 'Th...</td>\n",
       "      <td>['Vin Diesel', 'Rhiana Griffith', 'Keith David...</td>\n",
       "      <td>0</td>\n",
       "      <td>0</td>\n",
       "      <td>1.628881</td>\n",
       "      <td>5.9</td>\n",
       "      <td>157</td>\n",
       "      <td>2004</td>\n",
       "      <td>98243</td>\n",
       "      <td>656</td>\n",
       "      <td>5.0</td>\n",
       "      <td>986242465</td>\n",
       "      <td>106</td>\n",
       "    </tr>\n",
       "    <tr>\n",
       "      <th>23743</th>\n",
       "      <td>2331</td>\n",
       "      <td>Jesus</td>\n",
       "      <td>240.0</td>\n",
       "      <td>['History', 'Drama']</td>\n",
       "      <td>['Jeremy Sisto', 'Armin Mueller-Stahl', 'Debra...</td>\n",
       "      <td>20000000</td>\n",
       "      <td>0</td>\n",
       "      <td>2.524781</td>\n",
       "      <td>5.4</td>\n",
       "      <td>8</td>\n",
       "      <td>1999</td>\n",
       "      <td>33831</td>\n",
       "      <td>242</td>\n",
       "      <td>5.0</td>\n",
       "      <td>956683960</td>\n",
       "      <td>9</td>\n",
       "    </tr>\n",
       "    <tr>\n",
       "      <th>23745</th>\n",
       "      <td>2331</td>\n",
       "      <td>Jesus</td>\n",
       "      <td>240.0</td>\n",
       "      <td>['History', 'Drama']</td>\n",
       "      <td>['Jeremy Sisto', 'Armin Mueller-Stahl', 'Debra...</td>\n",
       "      <td>20000000</td>\n",
       "      <td>0</td>\n",
       "      <td>2.524781</td>\n",
       "      <td>5.4</td>\n",
       "      <td>8</td>\n",
       "      <td>1999</td>\n",
       "      <td>58755</td>\n",
       "      <td>427</td>\n",
       "      <td>5.0</td>\n",
       "      <td>943193150</td>\n",
       "      <td>9</td>\n",
       "    </tr>\n",
       "  </tbody>\n",
       "</table>\n",
       "<p>5631 rows × 16 columns</p>\n",
       "</div>"
      ],
      "text/plain": [
       "       movieId                                 title  runtime  \\\n",
       "3          949                                  Heat    170.0   \n",
       "7          949                                  Heat    170.0   \n",
       "8          949                                  Heat    170.0   \n",
       "19        1408                      Cutthroat Island    119.0   \n",
       "23        1408                      Cutthroat Island    119.0   \n",
       "...        ...                                   ...      ...   \n",
       "23729     2791  The Chronicles of Riddick: Dark Fury     34.0   \n",
       "23730     2791  The Chronicles of Riddick: Dark Fury     34.0   \n",
       "23731     2791  The Chronicles of Riddick: Dark Fury     34.0   \n",
       "23743     2331                                 Jesus    240.0   \n",
       "23745     2331                                 Jesus    240.0   \n",
       "\n",
       "                                                  genres  \\\n",
       "3               ['Action', 'Crime', 'Drama', 'Thriller']   \n",
       "7               ['Action', 'Crime', 'Drama', 'Thriller']   \n",
       "8               ['Action', 'Crime', 'Drama', 'Thriller']   \n",
       "19                               ['Action', 'Adventure']   \n",
       "23                               ['Action', 'Adventure']   \n",
       "...                                                  ...   \n",
       "23729  ['Action', 'Animation', 'Science Fiction', 'Th...   \n",
       "23730  ['Action', 'Animation', 'Science Fiction', 'Th...   \n",
       "23731  ['Action', 'Animation', 'Science Fiction', 'Th...   \n",
       "23743                               ['History', 'Drama']   \n",
       "23745                               ['History', 'Drama']   \n",
       "\n",
       "                                                    cast    budget    revenue  \\\n",
       "3      ['Al Pacino', 'Robert De Niro', 'Val Kilmer', ...  60000000  187436818   \n",
       "7      ['Al Pacino', 'Robert De Niro', 'Val Kilmer', ...  60000000  187436818   \n",
       "8      ['Al Pacino', 'Robert De Niro', 'Val Kilmer', ...  60000000  187436818   \n",
       "19     ['Geena Davis', 'Matthew Modine', 'Frank Lange...  98000000   10017322   \n",
       "23     ['Geena Davis', 'Matthew Modine', 'Frank Lange...  98000000   10017322   \n",
       "...                                                  ...       ...        ...   \n",
       "23729  ['Vin Diesel', 'Rhiana Griffith', 'Keith David...         0          0   \n",
       "23730  ['Vin Diesel', 'Rhiana Griffith', 'Keith David...         0          0   \n",
       "23731  ['Vin Diesel', 'Rhiana Griffith', 'Keith David...         0          0   \n",
       "23743  ['Jeremy Sisto', 'Armin Mueller-Stahl', 'Debra...  20000000          0   \n",
       "23745  ['Jeremy Sisto', 'Armin Mueller-Stahl', 'Debra...  20000000          0   \n",
       "\n",
       "       popularity  vote_average  vote_count  year  Unnamed: 0  userId  rating  \\\n",
       "3       17.924927           7.7        1886  1995       33669     242     5.0   \n",
       "7       17.924927           7.7        1886  1995       53461     387     5.0   \n",
       "8       17.924927           7.7        1886  1995       61635     452     4.5   \n",
       "19       7.284477           5.7         137  1995         800      11     5.0   \n",
       "23       7.284477           5.7         137  1995        9454      63     4.5   \n",
       "...           ...           ...         ...   ...         ...     ...     ...   \n",
       "23729    1.628881           5.9         157  2004       96571     646     5.0   \n",
       "23730    1.628881           5.9         157  2004       97789     654     4.5   \n",
       "23731    1.628881           5.9         157  2004       98243     656     5.0   \n",
       "23743    2.524781           5.4           8  1999       33831     242     5.0   \n",
       "23745    2.524781           5.4           8  1999       58755     427     5.0   \n",
       "\n",
       "        timestamp  totalRatingCount  \n",
       "3       956688825                16  \n",
       "7       974670478                16  \n",
       "8      1133735550                16  \n",
       "19     1391658667                43  \n",
       "23     1079098267                43  \n",
       "...           ...               ...  \n",
       "23729   953449488               106  \n",
       "23730  1145390525               106  \n",
       "23731   986242465               106  \n",
       "23743   956683960                 9  \n",
       "23745   943193150                 9  \n",
       "\n",
       "[5631 rows x 16 columns]"
      ]
     },
     "execution_count": 31,
     "metadata": {},
     "output_type": "execute_result"
    }
   ],
   "source": [
    "movie_list"
   ]
  },
  {
   "cell_type": "code",
   "execution_count": 32,
   "metadata": {},
   "outputs": [
    {
     "data": {
      "text/html": [
       "<div>\n",
       "<style scoped>\n",
       "    .dataframe tbody tr th:only-of-type {\n",
       "        vertical-align: middle;\n",
       "    }\n",
       "\n",
       "    .dataframe tbody tr th {\n",
       "        vertical-align: top;\n",
       "    }\n",
       "\n",
       "    .dataframe thead th {\n",
       "        text-align: right;\n",
       "    }\n",
       "</style>\n",
       "<table border=\"1\" class=\"dataframe\">\n",
       "  <thead>\n",
       "    <tr style=\"text-align: right;\">\n",
       "      <th>userId</th>\n",
       "      <th>2</th>\n",
       "      <th>3</th>\n",
       "      <th>4</th>\n",
       "      <th>5</th>\n",
       "      <th>6</th>\n",
       "      <th>7</th>\n",
       "      <th>8</th>\n",
       "      <th>9</th>\n",
       "      <th>10</th>\n",
       "      <th>11</th>\n",
       "      <th>...</th>\n",
       "      <th>661</th>\n",
       "      <th>662</th>\n",
       "      <th>664</th>\n",
       "      <th>665</th>\n",
       "      <th>666</th>\n",
       "      <th>667</th>\n",
       "      <th>668</th>\n",
       "      <th>669</th>\n",
       "      <th>670</th>\n",
       "      <th>671</th>\n",
       "    </tr>\n",
       "    <tr>\n",
       "      <th>title</th>\n",
       "      <th></th>\n",
       "      <th></th>\n",
       "      <th></th>\n",
       "      <th></th>\n",
       "      <th></th>\n",
       "      <th></th>\n",
       "      <th></th>\n",
       "      <th></th>\n",
       "      <th></th>\n",
       "      <th></th>\n",
       "      <th></th>\n",
       "      <th></th>\n",
       "      <th></th>\n",
       "      <th></th>\n",
       "      <th></th>\n",
       "      <th></th>\n",
       "      <th></th>\n",
       "      <th></th>\n",
       "      <th></th>\n",
       "      <th></th>\n",
       "      <th></th>\n",
       "    </tr>\n",
       "  </thead>\n",
       "  <tbody>\n",
       "    <tr>\n",
       "      <th>10 Items or Less</th>\n",
       "      <td>0.0</td>\n",
       "      <td>0.0</td>\n",
       "      <td>0.0</td>\n",
       "      <td>0.0</td>\n",
       "      <td>0.0</td>\n",
       "      <td>0.0</td>\n",
       "      <td>0.0</td>\n",
       "      <td>0.0</td>\n",
       "      <td>0.0</td>\n",
       "      <td>0.0</td>\n",
       "      <td>...</td>\n",
       "      <td>0.0</td>\n",
       "      <td>0.0</td>\n",
       "      <td>0.0</td>\n",
       "      <td>0.0</td>\n",
       "      <td>0.0</td>\n",
       "      <td>0.0</td>\n",
       "      <td>0.0</td>\n",
       "      <td>0.0</td>\n",
       "      <td>0.0</td>\n",
       "      <td>0.0</td>\n",
       "    </tr>\n",
       "    <tr>\n",
       "      <th>1408</th>\n",
       "      <td>0.0</td>\n",
       "      <td>0.0</td>\n",
       "      <td>0.0</td>\n",
       "      <td>0.0</td>\n",
       "      <td>0.0</td>\n",
       "      <td>0.0</td>\n",
       "      <td>0.0</td>\n",
       "      <td>0.0</td>\n",
       "      <td>0.0</td>\n",
       "      <td>0.0</td>\n",
       "      <td>...</td>\n",
       "      <td>0.0</td>\n",
       "      <td>0.0</td>\n",
       "      <td>0.0</td>\n",
       "      <td>0.0</td>\n",
       "      <td>0.0</td>\n",
       "      <td>0.0</td>\n",
       "      <td>0.0</td>\n",
       "      <td>0.0</td>\n",
       "      <td>0.0</td>\n",
       "      <td>0.0</td>\n",
       "    </tr>\n",
       "    <tr>\n",
       "      <th>2 Days in Paris</th>\n",
       "      <td>0.0</td>\n",
       "      <td>0.0</td>\n",
       "      <td>0.0</td>\n",
       "      <td>0.0</td>\n",
       "      <td>0.0</td>\n",
       "      <td>0.0</td>\n",
       "      <td>0.0</td>\n",
       "      <td>0.0</td>\n",
       "      <td>0.0</td>\n",
       "      <td>0.0</td>\n",
       "      <td>...</td>\n",
       "      <td>0.0</td>\n",
       "      <td>0.0</td>\n",
       "      <td>0.0</td>\n",
       "      <td>0.0</td>\n",
       "      <td>0.0</td>\n",
       "      <td>0.0</td>\n",
       "      <td>0.0</td>\n",
       "      <td>0.0</td>\n",
       "      <td>0.0</td>\n",
       "      <td>0.0</td>\n",
       "    </tr>\n",
       "    <tr>\n",
       "      <th>2010</th>\n",
       "      <td>0.0</td>\n",
       "      <td>0.0</td>\n",
       "      <td>0.0</td>\n",
       "      <td>0.0</td>\n",
       "      <td>0.0</td>\n",
       "      <td>0.0</td>\n",
       "      <td>0.0</td>\n",
       "      <td>0.0</td>\n",
       "      <td>0.0</td>\n",
       "      <td>0.0</td>\n",
       "      <td>...</td>\n",
       "      <td>0.0</td>\n",
       "      <td>0.0</td>\n",
       "      <td>0.0</td>\n",
       "      <td>0.0</td>\n",
       "      <td>0.0</td>\n",
       "      <td>0.0</td>\n",
       "      <td>0.0</td>\n",
       "      <td>0.0</td>\n",
       "      <td>0.0</td>\n",
       "      <td>0.0</td>\n",
       "    </tr>\n",
       "    <tr>\n",
       "      <th>24 Hour Party People</th>\n",
       "      <td>0.0</td>\n",
       "      <td>0.0</td>\n",
       "      <td>0.0</td>\n",
       "      <td>0.0</td>\n",
       "      <td>0.0</td>\n",
       "      <td>0.0</td>\n",
       "      <td>0.0</td>\n",
       "      <td>0.0</td>\n",
       "      <td>0.0</td>\n",
       "      <td>0.0</td>\n",
       "      <td>...</td>\n",
       "      <td>0.0</td>\n",
       "      <td>0.0</td>\n",
       "      <td>0.0</td>\n",
       "      <td>0.0</td>\n",
       "      <td>0.0</td>\n",
       "      <td>0.0</td>\n",
       "      <td>0.0</td>\n",
       "      <td>0.0</td>\n",
       "      <td>0.0</td>\n",
       "      <td>0.0</td>\n",
       "    </tr>\n",
       "    <tr>\n",
       "      <th>...</th>\n",
       "      <td>...</td>\n",
       "      <td>...</td>\n",
       "      <td>...</td>\n",
       "      <td>...</td>\n",
       "      <td>...</td>\n",
       "      <td>...</td>\n",
       "      <td>...</td>\n",
       "      <td>...</td>\n",
       "      <td>...</td>\n",
       "      <td>...</td>\n",
       "      <td>...</td>\n",
       "      <td>...</td>\n",
       "      <td>...</td>\n",
       "      <td>...</td>\n",
       "      <td>...</td>\n",
       "      <td>...</td>\n",
       "      <td>...</td>\n",
       "      <td>...</td>\n",
       "      <td>...</td>\n",
       "      <td>...</td>\n",
       "      <td>...</td>\n",
       "    </tr>\n",
       "    <tr>\n",
       "      <th>Young Adam</th>\n",
       "      <td>0.0</td>\n",
       "      <td>0.0</td>\n",
       "      <td>0.0</td>\n",
       "      <td>0.0</td>\n",
       "      <td>0.0</td>\n",
       "      <td>0.0</td>\n",
       "      <td>0.0</td>\n",
       "      <td>0.0</td>\n",
       "      <td>0.0</td>\n",
       "      <td>0.0</td>\n",
       "      <td>...</td>\n",
       "      <td>0.0</td>\n",
       "      <td>0.0</td>\n",
       "      <td>0.0</td>\n",
       "      <td>0.0</td>\n",
       "      <td>0.0</td>\n",
       "      <td>0.0</td>\n",
       "      <td>0.0</td>\n",
       "      <td>0.0</td>\n",
       "      <td>0.0</td>\n",
       "      <td>0.0</td>\n",
       "    </tr>\n",
       "    <tr>\n",
       "      <th>Young Black Stallion</th>\n",
       "      <td>0.0</td>\n",
       "      <td>0.0</td>\n",
       "      <td>0.0</td>\n",
       "      <td>0.0</td>\n",
       "      <td>0.0</td>\n",
       "      <td>0.0</td>\n",
       "      <td>0.0</td>\n",
       "      <td>0.0</td>\n",
       "      <td>0.0</td>\n",
       "      <td>0.0</td>\n",
       "      <td>...</td>\n",
       "      <td>0.0</td>\n",
       "      <td>0.0</td>\n",
       "      <td>0.0</td>\n",
       "      <td>0.0</td>\n",
       "      <td>0.0</td>\n",
       "      <td>0.0</td>\n",
       "      <td>0.0</td>\n",
       "      <td>0.0</td>\n",
       "      <td>0.0</td>\n",
       "      <td>0.0</td>\n",
       "    </tr>\n",
       "    <tr>\n",
       "      <th>Zodiac</th>\n",
       "      <td>0.0</td>\n",
       "      <td>0.0</td>\n",
       "      <td>0.0</td>\n",
       "      <td>0.0</td>\n",
       "      <td>0.0</td>\n",
       "      <td>0.0</td>\n",
       "      <td>0.0</td>\n",
       "      <td>0.0</td>\n",
       "      <td>0.0</td>\n",
       "      <td>0.0</td>\n",
       "      <td>...</td>\n",
       "      <td>0.0</td>\n",
       "      <td>0.0</td>\n",
       "      <td>0.0</td>\n",
       "      <td>0.0</td>\n",
       "      <td>0.0</td>\n",
       "      <td>0.0</td>\n",
       "      <td>0.0</td>\n",
       "      <td>0.0</td>\n",
       "      <td>0.0</td>\n",
       "      <td>0.0</td>\n",
       "    </tr>\n",
       "    <tr>\n",
       "      <th>eXistenZ</th>\n",
       "      <td>0.0</td>\n",
       "      <td>0.0</td>\n",
       "      <td>0.0</td>\n",
       "      <td>0.0</td>\n",
       "      <td>0.0</td>\n",
       "      <td>0.0</td>\n",
       "      <td>0.0</td>\n",
       "      <td>0.0</td>\n",
       "      <td>0.0</td>\n",
       "      <td>0.0</td>\n",
       "      <td>...</td>\n",
       "      <td>0.0</td>\n",
       "      <td>0.0</td>\n",
       "      <td>0.0</td>\n",
       "      <td>0.0</td>\n",
       "      <td>0.0</td>\n",
       "      <td>0.0</td>\n",
       "      <td>0.0</td>\n",
       "      <td>0.0</td>\n",
       "      <td>0.0</td>\n",
       "      <td>0.0</td>\n",
       "    </tr>\n",
       "    <tr>\n",
       "      <th>xXx</th>\n",
       "      <td>0.0</td>\n",
       "      <td>0.0</td>\n",
       "      <td>0.0</td>\n",
       "      <td>0.0</td>\n",
       "      <td>0.0</td>\n",
       "      <td>0.0</td>\n",
       "      <td>0.0</td>\n",
       "      <td>0.0</td>\n",
       "      <td>0.0</td>\n",
       "      <td>0.0</td>\n",
       "      <td>...</td>\n",
       "      <td>0.0</td>\n",
       "      <td>0.0</td>\n",
       "      <td>0.0</td>\n",
       "      <td>0.0</td>\n",
       "      <td>0.0</td>\n",
       "      <td>0.0</td>\n",
       "      <td>0.0</td>\n",
       "      <td>0.0</td>\n",
       "      <td>0.0</td>\n",
       "      <td>0.0</td>\n",
       "    </tr>\n",
       "  </tbody>\n",
       "</table>\n",
       "<p>708 rows × 615 columns</p>\n",
       "</div>"
      ],
      "text/plain": [
       "userId                2    3    4    5    6    7    8    9    10   11   ...  \\\n",
       "title                                                                   ...   \n",
       "10 Items or Less      0.0  0.0  0.0  0.0  0.0  0.0  0.0  0.0  0.0  0.0  ...   \n",
       "1408                  0.0  0.0  0.0  0.0  0.0  0.0  0.0  0.0  0.0  0.0  ...   \n",
       "2 Days in Paris       0.0  0.0  0.0  0.0  0.0  0.0  0.0  0.0  0.0  0.0  ...   \n",
       "2010                  0.0  0.0  0.0  0.0  0.0  0.0  0.0  0.0  0.0  0.0  ...   \n",
       "24 Hour Party People  0.0  0.0  0.0  0.0  0.0  0.0  0.0  0.0  0.0  0.0  ...   \n",
       "...                   ...  ...  ...  ...  ...  ...  ...  ...  ...  ...  ...   \n",
       "Young Adam            0.0  0.0  0.0  0.0  0.0  0.0  0.0  0.0  0.0  0.0  ...   \n",
       "Young Black Stallion  0.0  0.0  0.0  0.0  0.0  0.0  0.0  0.0  0.0  0.0  ...   \n",
       "Zodiac                0.0  0.0  0.0  0.0  0.0  0.0  0.0  0.0  0.0  0.0  ...   \n",
       "eXistenZ              0.0  0.0  0.0  0.0  0.0  0.0  0.0  0.0  0.0  0.0  ...   \n",
       "xXx                   0.0  0.0  0.0  0.0  0.0  0.0  0.0  0.0  0.0  0.0  ...   \n",
       "\n",
       "userId                661  662  664  665  666  667  668  669  670  671  \n",
       "title                                                                   \n",
       "10 Items or Less      0.0  0.0  0.0  0.0  0.0  0.0  0.0  0.0  0.0  0.0  \n",
       "1408                  0.0  0.0  0.0  0.0  0.0  0.0  0.0  0.0  0.0  0.0  \n",
       "2 Days in Paris       0.0  0.0  0.0  0.0  0.0  0.0  0.0  0.0  0.0  0.0  \n",
       "2010                  0.0  0.0  0.0  0.0  0.0  0.0  0.0  0.0  0.0  0.0  \n",
       "24 Hour Party People  0.0  0.0  0.0  0.0  0.0  0.0  0.0  0.0  0.0  0.0  \n",
       "...                   ...  ...  ...  ...  ...  ...  ...  ...  ...  ...  \n",
       "Young Adam            0.0  0.0  0.0  0.0  0.0  0.0  0.0  0.0  0.0  0.0  \n",
       "Young Black Stallion  0.0  0.0  0.0  0.0  0.0  0.0  0.0  0.0  0.0  0.0  \n",
       "Zodiac                0.0  0.0  0.0  0.0  0.0  0.0  0.0  0.0  0.0  0.0  \n",
       "eXistenZ              0.0  0.0  0.0  0.0  0.0  0.0  0.0  0.0  0.0  0.0  \n",
       "xXx                   0.0  0.0  0.0  0.0  0.0  0.0  0.0  0.0  0.0  0.0  \n",
       "\n",
       "[708 rows x 615 columns]"
      ]
     },
     "execution_count": 32,
     "metadata": {},
     "output_type": "execute_result"
    }
   ],
   "source": [
    "# Set up list of 10 movies\n",
    "movie_list_sample1 = movie_list\n",
    "movie_list_sample1 = movie_list_sample1.drop_duplicates(['userId','title'])\n",
    "movie_list_sample1.index = [x for x in range(1, len(movie_list_sample1.values)+1)]\n",
    "movie_list_sample1_pivot = movie_list_sample1.pivot(index = 'title', columns = 'userId', values = 'rating').fillna(0)\n",
    "\n",
    "# with 10 movies list of high rating score. (Randomly select)\n",
    "movie_list_sample1_pivot"
   ]
  },
  {
   "cell_type": "code",
   "execution_count": 33,
   "metadata": {},
   "outputs": [],
   "source": [
    "def Recommend_id(n):\n",
    "    query_index = n   ### put index of the movie\n",
    "    distances, indices = model_knn.kneighbors(rating_with_totalRatingCount_pivot.iloc[query_index, :].values.reshape(1, -1), n_neighbors = 6)\n",
    "\n",
    "    for i in range(0, len(distances.flatten())):\n",
    "        if i == 0:\n",
    "            print('Recommendations for: {0}\\n'.format(movie_list_sample1_pivot.index[query_index]))\n",
    "        else:\n",
    "            print('{0}:Movie Id {1}, with distance of :{2}'.format(i, rating_with_totalRatingCount_pivot.index[indices.flatten()[i]], distances.flatten()[i]))            "
   ]
  },
  {
   "cell_type": "code",
   "execution_count": 34,
   "metadata": {},
   "outputs": [
    {
     "name": "stdout",
     "output_type": "stream",
     "text": [
      "Recommendations for: 1408\n",
      "\n",
      "1:Movie Id 25, with distance of :0.49513058155839584\n",
      "2:Movie Id 786, with distance of :0.5325538642689402\n",
      "3:Movie Id 95, with distance of :0.5383533091562768\n",
      "4:Movie Id 608, with distance of :0.539475353930275\n",
      "5:Movie Id 16, with distance of :0.5698249448446511\n",
      "None\n",
      "Recommendations for: 2 Days in Paris\n",
      "\n",
      "1:Movie Id 66, with distance of :0.6220139271694556\n",
      "2:Movie Id 26386, with distance of :0.6663884534477982\n",
      "3:Movie Id 711, with distance of :0.6840072602259729\n",
      "4:Movie Id 107, with distance of :0.6910454076896677\n",
      "5:Movie Id 1165, with distance of :0.6916226622033201\n",
      "None\n",
      "Recommendations for: 2010\n",
      "\n",
      "1:Movie Id 1812, with distance of :0.4434468273072043\n",
      "2:Movie Id 3048, with distance of :0.45778585788618364\n",
      "3:Movie Id 2898, with distance of :0.45778585788618364\n",
      "4:Movie Id 558, with distance of :0.4883858692153267\n",
      "5:Movie Id 1595, with distance of :0.4946458421661398\n",
      "None\n",
      "Recommendations for: 24 Hour Party People\n",
      "\n",
      "1:Movie Id 5680, with distance of :0.5635240694863202\n",
      "2:Movie Id 25, with distance of :0.5933725194044005\n",
      "3:Movie Id 628, with distance of :0.6025078095574609\n",
      "4:Movie Id 535, with distance of :0.6077833354838527\n",
      "5:Movie Id 100, with distance of :0.6091841253245486\n",
      "None\n",
      "Recommendations for: xXx\n",
      "\n",
      "1:Movie Id 2255, with distance of :0.4056943762620072\n",
      "2:Movie Id 2171, with distance of :0.4208243615455858\n",
      "3:Movie Id 1642, with distance of :0.4458407109694602\n",
      "4:Movie Id 278, with distance of :0.46229219183416703\n",
      "5:Movie Id 388, with distance of :0.468612572446363\n",
      "None\n"
     ]
    }
   ],
   "source": [
    "print(Recommend_id(1))\n",
    "print(Recommend_id(2))\n",
    "print(Recommend_id(3))\n",
    "print(Recommend_id(4))\n",
    "print(Recommend_id(707))"
   ]
  },
  {
   "cell_type": "markdown",
   "metadata": {},
   "source": [
    "___________________"
   ]
  },
  {
   "cell_type": "markdown",
   "metadata": {},
   "source": [
    "# ML Model 3: SVD Recommender\n",
    "This model uses a matrix factorization method called Singular value decomposition (SVD). SVD decreases the dimension of the utility matrix by extracting its latent factors. Essentially, we map each user and each movie into a latent space with dimension r. Therefore, it helps us better understand the relationship between users and movies as they become directly comparable."
   ]
  },
  {
   "cell_type": "code",
   "execution_count": 35,
   "metadata": {},
   "outputs": [],
   "source": [
    "rating=pd.DataFrame(smallRatingsDF)\n",
    "movie=pd.DataFrame(movieDF)\n",
    "#clean for the data frame \n",
    "#movie=movie.drop(columns=['Unnamed: 0']) #drop the first cloume\n",
    "rating=rating.drop(columns=['Unnamed: 0','timestamp'])\n",
    "movie=movie.rename(columns={'id':'movieId'}) # rename the movieid"
   ]
  },
  {
   "cell_type": "code",
   "execution_count": 36,
   "metadata": {},
   "outputs": [
    {
     "data": {
      "text/plain": [
       "16188"
      ]
     },
     "execution_count": 36,
     "metadata": {},
     "output_type": "execute_result"
    }
   ],
   "source": [
    "movie.index = range(len(movie))\n",
    "rating.index=range(len(rating))\n",
    "#add the movie count to the movie\n",
    "movie['count_no']=movie.index\n",
    "movie.movieId.unique().shape[0]"
   ]
  },
  {
   "cell_type": "code",
   "execution_count": 37,
   "metadata": {},
   "outputs": [],
   "source": [
    "modifiedUserRatings = userRatings\n",
    "modifiedUserRatings['Rating'] = modifiedUserRatings['Rating'].astype(int)"
   ]
  },
  {
   "cell_type": "code",
   "execution_count": 38,
   "metadata": {},
   "outputs": [],
   "source": [
    "#plug the user into the users table\n",
    "userRatings['rating']=userRatings['Rating']/2"
   ]
  },
  {
   "cell_type": "code",
   "execution_count": 39,
   "metadata": {},
   "outputs": [],
   "source": [
    "#add the movieid into the table\n",
    "movie_id_user=[]\n",
    "for i in range(len(userRatings.index)):\n",
    "    movie_id_user.append(list(movie[movie['title']==userRatings.loc[i]['MovieTitle']].movieId)[0])"
   ]
  },
  {
   "cell_type": "code",
   "execution_count": 40,
   "metadata": {},
   "outputs": [
    {
     "data": {
      "text/html": [
       "<div>\n",
       "<style scoped>\n",
       "    .dataframe tbody tr th:only-of-type {\n",
       "        vertical-align: middle;\n",
       "    }\n",
       "\n",
       "    .dataframe tbody tr th {\n",
       "        vertical-align: top;\n",
       "    }\n",
       "\n",
       "    .dataframe thead th {\n",
       "        text-align: right;\n",
       "    }\n",
       "</style>\n",
       "<table border=\"1\" class=\"dataframe\">\n",
       "  <thead>\n",
       "    <tr style=\"text-align: right;\">\n",
       "      <th></th>\n",
       "      <th>MovieTitle</th>\n",
       "      <th>Rating</th>\n",
       "      <th>rating</th>\n",
       "      <th>movieId</th>\n",
       "    </tr>\n",
       "  </thead>\n",
       "  <tbody>\n",
       "    <tr>\n",
       "      <th>0</th>\n",
       "      <td>1408</td>\n",
       "      <td>9</td>\n",
       "      <td>4.5</td>\n",
       "      <td>3021</td>\n",
       "    </tr>\n",
       "    <tr>\n",
       "      <th>1</th>\n",
       "      <td>2 Days in Paris</td>\n",
       "      <td>7</td>\n",
       "      <td>3.5</td>\n",
       "      <td>1845</td>\n",
       "    </tr>\n",
       "    <tr>\n",
       "      <th>2</th>\n",
       "      <td>2010</td>\n",
       "      <td>8</td>\n",
       "      <td>4.0</td>\n",
       "      <td>4437</td>\n",
       "    </tr>\n",
       "    <tr>\n",
       "      <th>3</th>\n",
       "      <td>24 Hour Party People</td>\n",
       "      <td>8</td>\n",
       "      <td>4.0</td>\n",
       "      <td>2750</td>\n",
       "    </tr>\n",
       "    <tr>\n",
       "      <th>4</th>\n",
       "      <td>xXx</td>\n",
       "      <td>10</td>\n",
       "      <td>5.0</td>\n",
       "      <td>7451</td>\n",
       "    </tr>\n",
       "  </tbody>\n",
       "</table>\n",
       "</div>"
      ],
      "text/plain": [
       "             MovieTitle  Rating  rating  movieId\n",
       "0                  1408       9     4.5     3021\n",
       "1       2 Days in Paris       7     3.5     1845\n",
       "2                  2010       8     4.0     4437\n",
       "3  24 Hour Party People       8     4.0     2750\n",
       "4                   xXx      10     5.0     7451"
      ]
     },
     "execution_count": 40,
     "metadata": {},
     "output_type": "execute_result"
    }
   ],
   "source": [
    "userRatings['movieId']=np.array(movie_id_user)\n",
    "userRatings"
   ]
  },
  {
   "cell_type": "code",
   "execution_count": 41,
   "metadata": {},
   "outputs": [],
   "source": [
    "#add the rating and movieID to the usertbale\n",
    "row1={'userId':int(672),'movieId':userRatings.loc[0]['movieId'],'rating':userRatings.loc[0]['rating']}\n",
    "row2={'userId':int(672),'movieId':userRatings.loc[1]['movieId'],'rating':userRatings.loc[1]['rating']}\n",
    "row3={'userId':int(672),'movieId':userRatings.loc[2]['movieId'],'rating':userRatings.loc[2]['rating']}\n",
    "row4={'userId':int(672),'movieId':userRatings.loc[3]['movieId'],'rating':userRatings.loc[3]['rating']}\n",
    "row5={'userId':int(672),'movieId':userRatings.loc[4]['movieId'],'rating':userRatings.loc[4]['rating']}"
   ]
  },
  {
   "cell_type": "code",
   "execution_count": 42,
   "metadata": {},
   "outputs": [],
   "source": [
    "rating.loc[23712]=row1\n",
    "rating.loc[23713]=row2\n",
    "rating.loc[23714]=row3\n",
    "rating.loc[23715]=row4\n",
    "rating.loc[23716]=row5"
   ]
  },
  {
   "cell_type": "code",
   "execution_count": 43,
   "metadata": {},
   "outputs": [
    {
     "data": {
      "text/plain": [
       "array([  1.,   2.,   3.,   4.,   5.,   6.,   7.,   8.,   9.,  10.,  11.,\n",
       "        12.,  13.,  14.,  15.,  16.,  17.,  18.,  19.,  20.,  21.,  22.,\n",
       "        23.,  24.,  25.,  26.,  27.,  28.,  29.,  30.,  31.,  32.,  33.,\n",
       "        34.,  35.,  36.,  37.,  38.,  39.,  40.,  41.,  42.,  43.,  44.,\n",
       "        45.,  46.,  47.,  48.,  49.,  50.,  51.,  52.,  53.,  54.,  55.,\n",
       "        56.,  57.,  58.,  59.,  60.,  61.,  62.,  63.,  64.,  65.,  66.,\n",
       "        67.,  68.,  69.,  70.,  71.,  72.,  73.,  74.,  75.,  76.,  77.,\n",
       "        78.,  79.,  80.,  81.,  82.,  83.,  84.,  85.,  86.,  87.,  88.,\n",
       "        89.,  90.,  91.,  92.,  93.,  94.,  95.,  96.,  97.,  98.,  99.,\n",
       "       100., 101., 102., 103., 104., 105., 106., 107., 108., 109., 110.,\n",
       "       111., 112., 113., 114., 115., 116., 117., 118., 119., 120., 121.,\n",
       "       122., 123., 124., 125., 126., 127., 128., 129., 130., 131., 132.,\n",
       "       133., 134., 135., 136., 137., 138., 139., 140., 141., 142., 143.,\n",
       "       144., 145., 146., 147., 148., 149., 150., 151., 152., 153., 154.,\n",
       "       155., 156., 157., 158., 159., 160., 161., 162., 163., 164., 165.,\n",
       "       166., 167., 168., 169., 170., 171., 172., 173., 174., 175., 176.,\n",
       "       177., 178., 179., 180., 181., 182., 183., 184., 185., 186., 187.,\n",
       "       188., 189., 190., 191., 192., 193., 194., 195., 196., 197., 198.,\n",
       "       199., 200., 201., 202., 203., 204., 205., 206., 207., 208., 209.,\n",
       "       210., 211., 212., 213., 214., 215., 216., 217., 218., 219., 220.,\n",
       "       221., 222., 223., 224., 225., 226., 227., 228., 229., 230., 231.,\n",
       "       232., 233., 234., 235., 236., 237., 238., 239., 240., 241., 242.,\n",
       "       243., 244., 245., 246., 247., 248., 249., 250., 251., 252., 253.,\n",
       "       254., 255., 256., 257., 258., 259., 260., 261., 262., 263., 264.,\n",
       "       265., 266., 267., 268., 269., 270., 271., 272., 273., 274., 275.,\n",
       "       276., 277., 278., 279., 280., 281., 282., 283., 284., 285., 286.,\n",
       "       287., 288., 289., 290., 291., 292., 293., 294., 295., 296., 297.,\n",
       "       298., 299., 300., 301., 302., 303., 304., 305., 306., 307., 308.,\n",
       "       309., 310., 311., 312., 313., 314., 315., 316., 317., 318., 319.,\n",
       "       320., 321., 322., 323., 324., 325., 326., 327., 328., 329., 330.,\n",
       "       331., 332., 333., 334., 335., 336., 337., 338., 339., 340., 341.,\n",
       "       342., 343., 344., 345., 346., 347., 348., 349., 350., 351., 352.,\n",
       "       353., 354., 355., 356., 357., 358., 359., 360., 361., 362., 363.,\n",
       "       364., 365., 366., 367., 368., 369., 370., 371., 372., 373., 374.,\n",
       "       375., 376., 377., 378., 379., 380., 381., 382., 383., 384., 385.,\n",
       "       386., 387., 388., 389., 390., 391., 392., 393., 394., 395., 396.,\n",
       "       397., 398., 399., 400., 401., 402., 403., 404., 405., 406., 407.,\n",
       "       408., 409., 410., 411., 412., 413., 414., 415., 416., 417., 418.,\n",
       "       419., 420., 421., 422., 423., 424., 425., 426., 427., 428., 429.,\n",
       "       430., 431., 432., 433., 434., 435., 436., 437., 438., 439., 440.,\n",
       "       441., 442., 443., 444., 445., 446., 447., 449., 450., 451., 452.,\n",
       "       453., 454., 455., 456., 457., 458., 459., 460., 461., 462., 463.,\n",
       "       464., 465., 466., 467., 468., 469., 470., 471., 472., 473., 474.,\n",
       "       475., 476., 477., 478., 479., 480., 481., 482., 483., 484., 485.,\n",
       "       486., 487., 488., 489., 490., 491., 492., 493., 494., 495., 496.,\n",
       "       497., 498., 499., 500., 501., 502., 503., 504., 505., 506., 507.,\n",
       "       508., 509., 510., 511., 512., 513., 514., 515., 516., 517., 518.,\n",
       "       519., 520., 521., 522., 523., 524., 525., 526., 527., 528., 529.,\n",
       "       530., 531., 532., 533., 534., 535., 536., 537., 538., 539., 540.,\n",
       "       541., 542., 543., 544., 545., 546., 547., 548., 549., 550., 551.,\n",
       "       552., 553., 554., 555., 556., 557., 558., 559., 560., 561., 562.,\n",
       "       563., 564., 565., 566., 567., 568., 569., 570., 571., 572., 573.,\n",
       "       574., 575., 576., 577., 578., 579., 580., 581., 582., 583., 584.,\n",
       "       585., 586., 587., 588., 589., 590., 591., 592., 593., 594., 595.,\n",
       "       596., 597., 598., 599., 600., 601., 602., 603., 604., 605., 606.,\n",
       "       607., 608., 609., 610., 611., 612., 613., 614., 615., 616., 617.,\n",
       "       618., 619., 620., 621., 622., 623., 624., 625., 626., 627., 628.,\n",
       "       629., 630., 631., 632., 633., 634., 635., 636., 637., 638., 639.,\n",
       "       640., 641., 642., 643., 644., 645., 646., 647., 648., 649., 650.,\n",
       "       651., 652., 653., 654., 655., 656., 657., 658., 659., 660., 661.,\n",
       "       662., 664., 665., 666., 667., 668., 669., 670., 671., 672.])"
      ]
     },
     "execution_count": 43,
     "metadata": {},
     "output_type": "execute_result"
    }
   ],
   "source": [
    "rating.userId.unique()"
   ]
  },
  {
   "cell_type": "code",
   "execution_count": 44,
   "metadata": {},
   "outputs": [],
   "source": [
    "#merge into one dataset\n",
    "df=pd.merge(rating,movie, on='movieId')\n",
    "#recommond systerm based on the facorty matrix\n",
    "movie_matrix = df.pivot_table(index='userId', columns='count_no', values='rating').fillna(0)"
   ]
  },
  {
   "cell_type": "code",
   "execution_count": 45,
   "metadata": {},
   "outputs": [
    {
     "name": "stderr",
     "output_type": "stream",
     "text": [
      "/Users/harsha/opt/anaconda3/lib/python3.7/site-packages/ipykernel_launcher.py:1: FutureWarning: Method .as_matrix will be removed in a future version. Use .values instead.\n",
      "  \"\"\"Entry point for launching an IPython kernel.\n"
     ]
    }
   ],
   "source": [
    "R=movie_matrix.as_matrix()\n",
    "user_ratings_mean = np.mean(R, axis = 1)\n",
    "R_demeaned = R - user_ratings_mean.reshape(-1, 1)"
   ]
  },
  {
   "cell_type": "code",
   "execution_count": 46,
   "metadata": {},
   "outputs": [],
   "source": [
    "from scipy.sparse.linalg import svds\n",
    "U, sigma, Vt = svds(R_demeaned, k = 50)\n",
    "sigma = np.diag(sigma)\n",
    "all_user_predicted_ratings = np.dot(np.dot(U, sigma), Vt) + user_ratings_mean.reshape(-1, 1)\n",
    "preds_df = pd.DataFrame(all_user_predicted_ratings, columns = movie_matrix.columns)"
   ]
  },
  {
   "cell_type": "code",
   "execution_count": 47,
   "metadata": {},
   "outputs": [],
   "source": [
    "def recommend_movies(predictions_df,  movies_df, original_ratings_df, num_recommendations=5):\n",
    "    \n",
    "    # Get and sort the user's predictions\n",
    "    userID=672\n",
    "    user_row_number = userID - 3 # UserID starts at 1, not 0, missing 2 lines\n",
    "    sorted_user_predictions = preds_df.iloc[user_row_number].sort_values(ascending=False)\n",
    "    \n",
    "    # Get the user's data and merge in the movie information.\n",
    "    user_data = rating[rating.userId == (userID)]\n",
    "    user_full = df[df.userId==(userID)]\n",
    "\n",
    "    #print( 'User {0} has already rated {1} movies.'.format(userID, user_full.shape[0]))\n",
    "    #print ('Recommending the highest {0} predicted ratings movies not already rated.'.format(num_recommendations))\n",
    "    \n",
    "    # Recommend the highest predicted rating movies that the user hasn't seen yet.\n",
    "    recommendations = (movie[~movie['count_no'].isin(user_full['count_no'])].\n",
    "         merge(pd.DataFrame(sorted_user_predictions).reset_index(), how = 'left',\n",
    "               left_on = 'count_no',\n",
    "               right_on = 'count_no').\n",
    "         rename(columns = {user_row_number: 'Predictions'}).\n",
    "         sort_values('Predictions', ascending = False).\n",
    "                       iloc[:num_recommendations, :-1]\n",
    "                      )\n",
    "\n",
    "    return user_full, recommendations\n",
    "\n",
    "already_rated, predictions = recommend_movies(preds_df,  movie, rating, 25)\n"
   ]
  },
  {
   "cell_type": "code",
   "execution_count": 48,
   "metadata": {},
   "outputs": [
    {
     "data": {
      "text/plain": [
       "[1968,\n",
       " 111,\n",
       " 1247,\n",
       " 2020,\n",
       " 1959,\n",
       " 1956,\n",
       " 2791,\n",
       " 926,\n",
       " 924,\n",
       " 231,\n",
       " 296,\n",
       " 1639,\n",
       " 4816,\n",
       " 215,\n",
       " 2605,\n",
       " 8874,\n",
       " 1073,\n",
       " 2115,\n",
       " 8970,\n",
       " 866,\n",
       " 2324,\n",
       " 30707,\n",
       " 1358,\n",
       " 2321,\n",
       " 3512]"
      ]
     },
     "execution_count": 48,
     "metadata": {},
     "output_type": "execute_result"
    }
   ],
   "source": [
    "recomend_list=list(predictions['movieId'])\n",
    "recomend_list"
   ]
  },
  {
   "cell_type": "markdown",
   "metadata": {},
   "source": [
    "# ML Model 4: Cosine Similarity Recommender\n",
    "Make recommendations based on title and ratings. It uses cosine similarity as a metric to find movies that are similar to what the user rated."
   ]
  },
  {
   "cell_type": "code",
   "execution_count": 49,
   "metadata": {},
   "outputs": [],
   "source": [
    "#clean the movie from the movie side\n",
    "movie=movie[movie.movieId.isin(rating['movieId'])]\n",
    "#clean for the movie in rating \n",
    "rating=rating[rating.movieId.isin(movie['movieId'])]"
   ]
  },
  {
   "cell_type": "code",
   "execution_count": 50,
   "metadata": {},
   "outputs": [],
   "source": [
    "movie.index = range(len(movie))\n",
    "rating.index=range(len(rating))\n",
    "#add the movie count to the movie\n",
    "movie['count_no']=movie.index\n"
   ]
  },
  {
   "cell_type": "code",
   "execution_count": 51,
   "metadata": {},
   "outputs": [],
   "source": [
    "#merge into one dataset\n",
    "df=pd.merge(rating,movie, on='movieId')"
   ]
  },
  {
   "cell_type": "code",
   "execution_count": 52,
   "metadata": {},
   "outputs": [],
   "source": [
    "#recommond systerm based on the facorty matrix\n",
    "movie_matrix = df.pivot_table(index='userId', columns='count_no', values='rating').fillna(0)"
   ]
  },
  {
   "cell_type": "code",
   "execution_count": 53,
   "metadata": {},
   "outputs": [],
   "source": [
    "# calculate the cos similarity\n",
    "def calculationSimilarity(data_matrix):\n",
    "    user_similarity = cosine_similarity(data_matrix, dense_output=True)\n",
    "    item_similarity = cosine_similarity(data_matrix.T, dense_output=True)\n",
    "    return item_similarity\n"
   ]
  },
  {
   "cell_type": "code",
   "execution_count": 54,
   "metadata": {},
   "outputs": [],
   "source": [
    "item_similarity=calculationSimilarity(movie_matrix)"
   ]
  },
  {
   "cell_type": "code",
   "execution_count": 55,
   "metadata": {},
   "outputs": [],
   "source": [
    "def rec_sys(df, item_similarity, keywords, k):\n",
    "    '''\n",
    "    :param item_similarity: simlilarity matrix\n",
    "    :param keywords: name of the moive of key word\n",
    "    :param k: number of recomendation\n",
    "    :return: the lift of recommendation\n",
    "    '''\n",
    "    movie_list = []     # movie list\n",
    "    movie_id = list(movie[movie['title'].str.contains(keywords)].count_no)[0]   # id\n",
    "    movie_similarity = item_similarity[movie_id - 1]    # calculate the similarity\n",
    "    movie_similarity_index = np.argsort(-movie_similarity)[1:k + 1]     \n",
    "\n",
    "    for index in movie_similarity_index:\n",
    "        rec_movie = list(movie[movie['count_no'] == index + 1].movieId)[0] # movie id\n",
    "        #rec_movie = list(movie[movie['count_no'] == index + 1].title)     # movie name\n",
    "        #id_movie=movie[movie['count_no'] == index + 1].movieId\n",
    "        #rec_movie.append(df[df['count_no'] == index + 1].rating.mean()) # average rating\n",
    "        #rec_movie.append(len(df[df['count_no'] ==index + 1]))    # number of rating \n",
    "        movie_list.append(rec_movie)\n",
    "    return movie_list"
   ]
  },
  {
   "cell_type": "code",
   "execution_count": 56,
   "metadata": {},
   "outputs": [
    {
     "name": "stdout",
     "output_type": "stream",
     "text": [
      "[640, 2892, 4978, 25750, 4553]\n",
      "[8130, 74727, 1990, 49299, 4012]\n",
      "[109161, 4518, 33138, 314, 6022]\n",
      "[39446, 6963, 49013, 5686, 2193]\n",
      "[2621, 2617, 671, 49299, 313]\n"
     ]
    }
   ],
   "source": [
    "print(rec_sys(df,item_similarity,'1408',5))\n",
    "print(rec_sys(df,item_similarity,'2 Days in Paris',5))\n",
    "print(rec_sys(df,item_similarity,'2010',5))\n",
    "print(rec_sys(df,item_similarity,'24 Hour Party People',5))\n",
    "print(rec_sys(df,item_similarity,'xXx',5))"
   ]
  },
  {
   "cell_type": "markdown",
   "metadata": {},
   "source": [
    "### For all ml model outputs: record the movieId numbers into an excel file"
   ]
  },
  {
   "cell_type": "markdown",
   "metadata": {},
   "source": [
    "# Bagging\n",
    "Taking the ouput of all the different ML models, the number of times a movie is recommended is analyzed. The top 5 movies that have been recommended the most will be displayed. This bagging model is based on majority vote count. \n",
    "Data is stored in baggingData.csv. It contains 100 movieId recommendations; 25 each from every ML model."
   ]
  },
  {
   "cell_type": "code",
   "execution_count": 66,
   "metadata": {},
   "outputs": [
    {
     "data": {
      "text/html": [
       "<div>\n",
       "<style scoped>\n",
       "    .dataframe tbody tr th:only-of-type {\n",
       "        vertical-align: middle;\n",
       "    }\n",
       "\n",
       "    .dataframe tbody tr th {\n",
       "        vertical-align: top;\n",
       "    }\n",
       "\n",
       "    .dataframe thead th {\n",
       "        text-align: right;\n",
       "    }\n",
       "</style>\n",
       "<table border=\"1\" class=\"dataframe\">\n",
       "  <thead>\n",
       "    <tr style=\"text-align: right;\">\n",
       "      <th></th>\n",
       "      <th>movieID</th>\n",
       "    </tr>\n",
       "  </thead>\n",
       "  <tbody>\n",
       "    <tr>\n",
       "      <th>0</th>\n",
       "      <td>11825</td>\n",
       "    </tr>\n",
       "    <tr>\n",
       "      <th>1</th>\n",
       "      <td>15083</td>\n",
       "    </tr>\n",
       "    <tr>\n",
       "      <th>2</th>\n",
       "      <td>12097</td>\n",
       "    </tr>\n",
       "    <tr>\n",
       "      <th>3</th>\n",
       "      <td>10898</td>\n",
       "    </tr>\n",
       "    <tr>\n",
       "      <th>4</th>\n",
       "      <td>12514</td>\n",
       "    </tr>\n",
       "  </tbody>\n",
       "</table>\n",
       "</div>"
      ],
      "text/plain": [
       "   movieID\n",
       "0    11825\n",
       "1    15083\n",
       "2    12097\n",
       "3    10898\n",
       "4    12514"
      ]
     },
     "execution_count": 66,
     "metadata": {},
     "output_type": "execute_result"
    }
   ],
   "source": [
    "baggingDF = pd.read_csv('./finalData/baggingData.csv')\n",
    "baggingDF.head()"
   ]
  },
  {
   "cell_type": "code",
   "execution_count": 108,
   "metadata": {},
   "outputs": [
    {
     "name": "stdout",
     "output_type": "stream",
     "text": [
      "25       2\n",
      "49299    2\n",
      "25750    1\n",
      "74727    1\n",
      "1956     1\n",
      "Name: movieID, dtype: int64\n"
     ]
    },
    {
     "data": {
      "text/plain": [
       "[25, 49299, 25750, 74727, 1956]"
      ]
     },
     "execution_count": 108,
     "metadata": {},
     "output_type": "execute_result"
    }
   ],
   "source": [
    "#Count frequencies of movieID\n",
    "finalRecommendations = baggingDF['movieID'].value_counts()[:5]\n",
    "print(finalRecommendations)\n",
    "finalRecommendations = str(finalRecommendations)\n",
    "finalRecommendations = finalRecommendations.split()\n",
    "finalRecommendations = finalRecommendations[0:9:2]\n",
    "finalIds = []\n",
    "for number in finalRecommendations:\n",
    "    finalIds.append(int(number))\n",
    "finalIds"
   ]
  },
  {
   "cell_type": "code",
   "execution_count": 161,
   "metadata": {},
   "outputs": [],
   "source": [
    "def printOutput(finalIds):\n",
    "    for item in finalIds:\n",
    "        print(movieDF[movieDF[\"movieId\"] == item].title, \"\\n\\n\\n\")"
   ]
  },
  {
   "cell_type": "code",
   "execution_count": 167,
   "metadata": {},
   "outputs": [
    {
     "name": "stdout",
     "output_type": "stream",
     "text": [
      "#### Your top 5 movie recommendations are: #####\n",
      "\n",
      "5248    Jarhead\n",
      "Name: title, dtype: object \n",
      "\n",
      "\n",
      "\n",
      "350    Dangerous Game\n",
      "Name: title, dtype: object \n",
      "\n",
      "\n",
      "\n",
      "694    Children of the Corn IV: The Gathering\n",
      "Name: title, dtype: object \n",
      "\n",
      "\n",
      "\n",
      "14070    Long Pigs\n",
      "Name: title, dtype: object \n",
      "\n",
      "\n",
      "\n",
      "3610    Gerry\n",
      "Name: title, dtype: object \n",
      "\n",
      "\n",
      "\n"
     ]
    }
   ],
   "source": [
    "print(\"#### Your top 5 movie recommendations are: #####\\n\")\n",
    "printOutput(finalIds)\n"
   ]
  },
  {
   "cell_type": "code",
   "execution_count": null,
   "metadata": {},
   "outputs": [],
   "source": []
  }
 ],
 "metadata": {
  "kernelspec": {
   "display_name": "Python 3",
   "language": "python",
   "name": "python3"
  },
  "language_info": {
   "codemirror_mode": {
    "name": "ipython",
    "version": 3
   },
   "file_extension": ".py",
   "mimetype": "text/x-python",
   "name": "python",
   "nbconvert_exporter": "python",
   "pygments_lexer": "ipython3",
   "version": "3.7.5"
  }
 },
 "nbformat": 4,
 "nbformat_minor": 2
}
